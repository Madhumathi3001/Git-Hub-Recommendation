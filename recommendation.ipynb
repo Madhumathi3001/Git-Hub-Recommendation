{
 "cells": [
  {
   "cell_type": "markdown",
   "metadata": {},
   "source": [
    "# Data Preprocessing "
   ]
  },
  {
   "cell_type": "code",
   "execution_count": 40,
   "metadata": {},
   "outputs": [
    {
     "name": "stdout",
     "output_type": "stream",
     "text": [
      "                        _id     Login  \\\n",
      "0  683c7d2cc5036e7ccfba1afe   mojombo   \n",
      "1  683c8a92c5036e7ccfba1b03   pjhyett   \n",
      "2  683c8af6c5036e7ccfba1b04    wycats   \n",
      "3  683c8b32c5036e7ccfba1b05  ezmobius   \n",
      "4  683c8c14c5036e7ccfba1b06   defunkt   \n",
      "\n",
      "                                      Avatar URL   Bio            Created At  \\\n",
      "0  https://avatars.githubusercontent.com/u/1?v=4        2007-10-20T05:24:19Z   \n",
      "1  https://avatars.githubusercontent.com/u/3?v=4  None  2008-01-07T17:54:22Z   \n",
      "2  https://avatars.githubusercontent.com/u/4?v=4  None  2008-01-12T05:38:33Z   \n",
      "3  https://avatars.githubusercontent.com/u/5?v=4  None  2008-01-12T07:51:46Z   \n",
      "4  https://avatars.githubusercontent.com/u/2?v=4     🍔  2007-10-20T05:24:19Z   \n",
      "\n",
      "   Followers Count                                     Followers List  \\\n",
      "0            24221  [defunkt, pjhyett, vanpelt, brynary, technowee...   \n",
      "1             8333  [mojombo, defunkt, technoweenie, takeo, atmos,...   \n",
      "2            10278  [topfunky, joshknowles, rsanheim, daksis, sr, ...   \n",
      "3              577  [vanpelt, brynary, topfunky, atmos, mojodna, j...   \n",
      "4            22502  [mojombo, pjhyett, vanpelt, brynary, technowee...   \n",
      "\n",
      "   Following Count                                     Following List  \\\n",
      "0               11  [defunkt, pjhyett, KirinDave, schacon, maddox,...   \n",
      "1               30  [mojombo, defunkt, technoweenie, caged, atmos,...   \n",
      "2               13  [brian-lc, rsutphin, wagenet, chancancode, seb...   \n",
      "3               13  [brynary, KirinDave, jamesgolick, mtodd, raggi...   \n",
      "4              215  [mojombo, pjhyett, vanpelt, brynary, technowee...   \n",
      "\n",
      "                                           Languages  ...  \\\n",
      "0  {'CSS': 22033, 'JavaScript': 25850, 'Ruby': 56...  ...   \n",
      "1               {'Ruby': 53587, 'JavaScript': 26152}  ...   \n",
      "2  {'Ruby': 4689292, 'Rust': 233807, 'CoffeeScrip...  ...   \n",
      "3  {'Ruby': 1140441, 'C': 3134519, 'Scheme': 4915...  ...   \n",
      "4  {'JavaScript': 4906512, 'Python': 9982, 'Objec...  ...   \n",
      "\n",
      "                                       Organizations  \\\n",
      "0                                        [toml-lang]   \n",
      "1                                                 []   \n",
      "2  [rails, jquery, carlhuda, rubinius, guard, get...   \n",
      "3                                         [rubinius]   \n",
      "4                                         [mustache]   \n",
      "\n",
      "                                Starred Repositories  \\\n",
      "0  [https://github.com/sam-goodwin/alchemy, https...   \n",
      "1  [https://github.com/Youpinadi/netflix-categori...   \n",
      "2  [https://github.com/typst/unscanny, https://gi...   \n",
      "3  [https://github.com/ezmobius/LocheGSplicer, ht...   \n",
      "4  [https://github.com/nkzw-tech/athena-crisis, h...   \n",
      "\n",
      "                                       Subscriptions  \\\n",
      "0  [https://github.com/semver/semver, https://git...   \n",
      "1  [https://github.com/pjhyett/git-server, https:...   \n",
      "2  [https://github.com/ember-cli/ember-resolver, ...   \n",
      "3  [https://github.com/rubinius/rubinius-debugger...   \n",
      "4  [https://github.com/defunkt/dotjs, https://git...   \n",
      "\n",
      "                                        Commit Dates  \\\n",
      "0  [2014-11-20 05:51:19, 2014-11-20 05:33:15, 201...   \n",
      "1                                                NaN   \n",
      "2                                                NaN   \n",
      "3                                                NaN   \n",
      "4                                                NaN   \n",
      "\n",
      "                                Commits Per Language  \\\n",
      "0  {'CSS': 1245, 'JavaScript': 4286, 'Ruby': 1406...   \n",
      "1                                                NaN   \n",
      "2                                                NaN   \n",
      "3                                                NaN   \n",
      "4                                                NaN   \n",
      "\n",
      "                                    Commits Per Repo                Platforms  \\\n",
      "0  {'30daysoflaptops.github.io': 2, 'asteroids': ...  [Linux, Windows, macOS]   \n",
      "1                                                NaN                      NaN   \n",
      "2                                                NaN                      NaN   \n",
      "3                                                NaN                      NaN   \n",
      "4                                                NaN                      NaN   \n",
      "\n",
      "                                  Stars Per Language  \\\n",
      "0  {'CSS': 14, 'JavaScript': 467, 'Ruby': 9081, '...   \n",
      "1                                                NaN   \n",
      "2                                                NaN   \n",
      "3                                                NaN   \n",
      "4                                                NaN   \n",
      "\n",
      "                                      Stars Per Repo  \\\n",
      "0  {'30daysoflaptops.github.io': 8, 'asteroids': ...   \n",
      "1                                                NaN   \n",
      "2                                                NaN   \n",
      "3                                                NaN   \n",
      "4                                                NaN   \n",
      "\n",
      "                          Web Frameworks  \n",
      "0  {'Django': 3, 'Flask': 2, 'React': 5}  \n",
      "1                                    NaN  \n",
      "2                                    NaN  \n",
      "3                                    NaN  \n",
      "4                                    NaN  \n",
      "\n",
      "[5 rows x 25 columns]\n"
     ]
    }
   ],
   "source": [
    "from pymongo import MongoClient\n",
    "import pandas as pd\n",
    "from dotenv import load_dotenv\n",
    "import os\n",
    "\n",
    "load_dotenv()  # Loads environment variables from .env\n",
    "\n",
    "mongo_uri = os.getenv(\"MONGO_URI\")\n",
    "if mongo_uri is None:\n",
    "    raise Exception(\"MONGO_URI not found in environment variables\")\n",
    "\n",
    "client = MongoClient(mongo_uri)\n",
    "\n",
    "db = client[\"github_db\"]\n",
    "collection = db[\"user_data\"]\n",
    "\n",
    "data = list(collection.find())\n",
    "df = pd.DataFrame(data)\n",
    "print(df.head())\n"
   ]
  },
  {
   "cell_type": "markdown",
   "metadata": {},
   "source": [
    "Checking the List of columns present in the data set. "
   ]
  },
  {
   "cell_type": "code",
   "execution_count": 41,
   "metadata": {},
   "outputs": [
    {
     "data": {
      "text/plain": [
       "Index(['_id', 'Login', 'Avatar URL', 'Bio', 'Created At', 'Followers Count',\n",
       "       'Followers List', 'Following Count', 'Following List', 'Languages',\n",
       "       'Name', 'Profile URL', 'Public Repositories', 'Total Commits',\n",
       "       'Updated At', 'Organizations', 'Starred Repositories', 'Subscriptions',\n",
       "       'Commit Dates', 'Commits Per Language', 'Commits Per Repo', 'Platforms',\n",
       "       'Stars Per Language', 'Stars Per Repo', 'Web Frameworks'],\n",
       "      dtype='object')"
      ]
     },
     "execution_count": 41,
     "metadata": {},
     "output_type": "execute_result"
    }
   ],
   "source": [
    "\n",
    "df.columns"
   ]
  },
  {
   "cell_type": "markdown",
   "metadata": {},
   "source": [
    "Checking the Shape of the Data set."
   ]
  },
  {
   "cell_type": "code",
   "execution_count": 42,
   "metadata": {},
   "outputs": [
    {
     "data": {
      "text/plain": [
       "(52, 25)"
      ]
     },
     "execution_count": 42,
     "metadata": {},
     "output_type": "execute_result"
    }
   ],
   "source": [
    "df.shape"
   ]
  },
  {
   "cell_type": "markdown",
   "metadata": {},
   "source": [
    "Checking for the null values "
   ]
  },
  {
   "cell_type": "code",
   "execution_count": 43,
   "metadata": {},
   "outputs": [
    {
     "data": {
      "text/plain": [
       "_id                      0\n",
       "Login                    0\n",
       "Avatar URL               0\n",
       "Bio                     30\n",
       "Created At               0\n",
       "Followers Count          0\n",
       "Followers List           2\n",
       "Following Count          0\n",
       "Following List           2\n",
       "Languages                0\n",
       "Name                     4\n",
       "Profile URL              0\n",
       "Public Repositories      0\n",
       "Total Commits            0\n",
       "Updated At               2\n",
       "Organizations            0\n",
       "Starred Repositories     0\n",
       "Subscriptions            0\n",
       "Commit Dates            51\n",
       "Commits Per Language    49\n",
       "Commits Per Repo        49\n",
       "Platforms               49\n",
       "Stars Per Language      49\n",
       "Stars Per Repo          49\n",
       "Web Frameworks          49\n",
       "dtype: int64"
      ]
     },
     "execution_count": 43,
     "metadata": {},
     "output_type": "execute_result"
    }
   ],
   "source": [
    "\n",
    "\n",
    "df.isnull().sum()"
   ]
  },
  {
   "cell_type": "markdown",
   "metadata": {},
   "source": [
    "Replacing the Null Values with 0"
   ]
  },
  {
   "cell_type": "code",
   "execution_count": 44,
   "metadata": {},
   "outputs": [],
   "source": [
    "\n",
    "\n",
    "df.fillna(0, inplace=True)  # Or use more specific imputations"
   ]
  },
  {
   "cell_type": "code",
   "execution_count": 45,
   "metadata": {},
   "outputs": [
    {
     "data": {
      "text/plain": [
       "0     {'CSS': 22033, 'JavaScript': 25850, 'Ruby': 56...\n",
       "1                  {'Ruby': 53587, 'JavaScript': 26152}\n",
       "2     {'Ruby': 4689292, 'Rust': 233807, 'CoffeeScrip...\n",
       "3     {'Ruby': 1140441, 'C': 3134519, 'Scheme': 4915...\n",
       "4     {'JavaScript': 4906512, 'Python': 9982, 'Objec...\n",
       "5     {'C++': 53390, 'Starlark': 3472, 'JavaScript':...\n",
       "6     {'Go': 59818975, 'C': 1028866, 'Shell': 616789...\n",
       "7     {'Ruby': 235022, 'TypeScript': 1819206, 'Shell...\n",
       "8     {'Shell': 229750, 'Makefile': 20454, 'CMake': ...\n",
       "9     {'Ruby': 7602283, 'Gherkin': 64610, 'SCSS': 53...\n",
       "10    {'Java': 17440940, 'Starlark': 93090, 'C': 937...\n",
       "11    {'Ruby': 1494392, 'HTML': 65991, 'Go': 4442744...\n",
       "12    {'JavaScript': 336396, 'Makefile': 314, 'Ruby'...\n",
       "13    {'JavaScript': 647547, 'PHP': 111910, 'HTML': ...\n",
       "14    {'JavaScript': 474219, 'Svelte': 10385, 'TypeS...\n",
       "15    {'Ruby': 454087, 'R': 913208, 'CSS': 21737, 'J...\n",
       "16    {'JavaScript': 3236926, 'HTML': 157577, 'CSS':...\n",
       "17    {'JavaScript': 4375, 'HTML': 1721, 'CSS': 1117...\n",
       "18    {'Python': 16740789, 'Makefile': 32238, 'Jupyt...\n",
       "19                                                   {}\n",
       "20    {'Ruby': 2525266, 'Limbo': 6940, 'Shell': 840,...\n",
       "21                                                   {}\n",
       "22    {'HTML': 25871, 'Ruby': 7817, 'Python': 13349,...\n",
       "23    {'Java': 1944987, 'Ruby': 5832258, 'CSS': 1179...\n",
       "24    {'Arc': 361488, 'Scheme': 63333, 'Emacs Lisp':...\n",
       "25    {'Ruby': 1816481, 'Erlang': 531750, 'Shell': 4...\n",
       "26    {'Ruby': 2674954, 'CSS': 116479, 'JavaScript':...\n",
       "27                                                   {}\n",
       "28    {'Objective-C': 702967, 'JavaScript': 2409960,...\n",
       "29    {'Ruby': 1564135, 'Go': 350709, 'Shell': 3377,...\n",
       "30    {'JavaScript': 309172, 'Go': 335501, 'Makefile...\n",
       "31    {'Ruby': 88116, 'Shell': 6557, 'JavaScript': 1...\n",
       "32    {'Arc': 203354, 'Scheme': 74465, 'Shell': 486,...\n",
       "33    {'Emacs Lisp': 2270981, 'Elixir': 45547, 'Make...\n",
       "34    {'Ruby': 29316551, 'C++': 4185042, 'C': 131178...\n",
       "35    {'Ruby': 869220, 'JavaScript': 77558, 'CoffeeS...\n",
       "36    {'Ruby': 1603963, 'Rust': 50140, 'HTML': 21075...\n",
       "37    {'JavaScript': 13110934, 'Python': 1844670, 'H...\n",
       "38    {'Shell': 98967, 'Makefile': 46082, 'Ruby': 63...\n",
       "39    {'JavaScript': 156579, 'Ruby': 1199007, 'Pytho...\n",
       "40    {'Ruby': 131119, 'Python': 1463545, 'CSS': 170...\n",
       "41    {'Emacs Lisp': 2477443, 'TeX': 261808, 'Shell'...\n",
       "42    {'Scala': 537953, 'Batchfile': 1307, 'Ruby': 6...\n",
       "43    {'Clojure': 69989, 'JavaScript': 1870333, 'Rub...\n",
       "44    {'C': 1111998, 'C++': 62715, 'CMake': 15393, '...\n",
       "45    {'JavaScript': 386960, 'HTML': 1474111, 'TypeS...\n",
       "46    {'Ruby': 4807840, 'Shell': 162332, 'Makefile':...\n",
       "47    {'Ruby': 1843039, 'CSS': 327718, 'JavaScript':...\n",
       "48    {'JavaScript': 185012, 'Ruby': 15132878, 'HTML...\n",
       "49    {'JavaScript': 15415499, 'CSS': 4204, 'TypeScr...\n",
       "50    {'Unknown': 7579, 'Jupyter Notebook': 31849, '...\n",
       "51    {'Unknown': 65143, 'JavaScript': 13751, 'Kotli...\n",
       "Name: Languages, dtype: object"
      ]
     },
     "execution_count": 45,
     "metadata": {},
     "output_type": "execute_result"
    }
   ],
   "source": [
    "df['Languages']"
   ]
  },
  {
   "cell_type": "code",
   "execution_count": 46,
   "metadata": {},
   "outputs": [
    {
     "name": "stdout",
     "output_type": "stream",
     "text": [
      "0    [CSS, JavaScript, Ruby, Erlang, Unknown, TypeS...\n",
      "1                                   [Ruby, JavaScript]\n",
      "2    [Ruby, Rust, CoffeeScript, JavaScript, Vue, CS...\n",
      "3    [Ruby, C, Scheme, Perl, Shell, JavaScript, C++...\n",
      "4    [JavaScript, Python, Objective-C, Lua, Clojure...\n",
      "Name: Languages_list, dtype: object\n"
     ]
    }
   ],
   "source": [
    "# Step 1: Create 'Languages_list' safely, handling missing or non-dict values\n",
    "df['Languages_list'] = df['Languages'].apply(lambda x: list(x.keys()) if isinstance(x, dict) else [])\n",
    "\n",
    "# Check the new column\n",
    "print(df['Languages_list'].head())\n"
   ]
  },
  {
   "cell_type": "markdown",
   "metadata": {},
   "source": [
    "One-hot Encoding the Language column"
   ]
  },
  {
   "cell_type": "code",
   "execution_count": 47,
   "metadata": {},
   "outputs": [
    {
     "name": "stdout",
     "output_type": "stream",
     "text": [
      "Index(['_id', 'Login', 'Avatar URL', 'Bio', 'Created At', 'Followers Count',\n",
      "       'Followers List', 'Following Count', 'Following List', 'Name',\n",
      "       ...\n",
      "       'Vim Script', 'Visual Basic', 'Vue', 'WebAssembly', 'XML', 'XSLT',\n",
      "       'Xonsh', 'YASnippet', 'Yacc', 'reStructuredText'],\n",
      "      dtype='object', length=149)\n"
     ]
    }
   ],
   "source": [
    "from sklearn.preprocessing import MultiLabelBinarizer\n",
    "\n",
    "mlb = MultiLabelBinarizer()\n",
    "languages_encoded = pd.DataFrame(mlb.fit_transform(df['Languages_list']),\n",
    "                                 columns=mlb.classes_,\n",
    "                                 index=df.index)  # Make sure index matches\n",
    "\n",
    "# Concatenate encoded columns with original dataframe\n",
    "df = pd.concat([df, languages_encoded], axis=1)\n",
    "\n",
    "# Now you can drop 'Languages' and 'Languages_list' if you want\n",
    "df = df.drop(columns=['Languages', 'Languages_list'])\n",
    "\n",
    "print(df.columns)  # To check if encoded columns are now included\n"
   ]
  },
  {
   "cell_type": "code",
   "execution_count": 48,
   "metadata": {},
   "outputs": [
    {
     "name": "stdout",
     "output_type": "stream",
     "text": [
      "(52, 149)\n",
      "(52, 125)\n"
     ]
    }
   ],
   "source": [
    "print(df.shape)\n",
    "print(languages_encoded.shape)\n"
   ]
  },
  {
   "cell_type": "markdown",
   "metadata": {},
   "source": [
    "Training the Data Using Cosine Similarity"
   ]
  },
  {
   "cell_type": "code",
   "execution_count": 49,
   "metadata": {},
   "outputs": [],
   "source": [
    "from sklearn.metrics.pairwise import cosine_similarity\n",
    "import pandas as pd\n"
   ]
  },
  {
   "cell_type": "code",
   "execution_count": 51,
   "metadata": {},
   "outputs": [],
   "source": [
    "from sklearn.preprocessing import MinMaxScaler\n",
    "\n",
    "# Select relevant numeric columns\n",
    "numeric_cols = ['Followers Count', 'Following Count', 'Public Repositories', 'Total Commits']\n",
    "# Optional: Scale them to the same range\n",
    "scaler = MinMaxScaler()\n",
    "numeric_scaled = pd.DataFrame(scaler.fit_transform(df[numeric_cols]), columns=numeric_cols, index=df.index)\n",
    "\n",
    "# Combine with language encoding\n",
    "feature_matrix = pd.concat([language_features, numeric_scaled], axis=1)\n"
   ]
  },
  {
   "cell_type": "code",
   "execution_count": 52,
   "metadata": {},
   "outputs": [],
   "source": [
    "# Compute cosine similarity between rows\n",
    "similarity_matrix = pd.DataFrame(cosine_similarity(feature_matrix), index=df['Login'], columns=df['Login'])\n"
   ]
  },
  {
   "cell_type": "code",
   "execution_count": 54,
   "metadata": {},
   "outputs": [],
   "source": [
    "import pickle\n",
    "\n",
    "# similarity_matrix is your cosine similarity DataFrame\n",
    "with open('similarity_model.pkl', 'wb') as f:\n",
    "    pickle.dump(similarity_matrix, f)\n"
   ]
  }
 ],
 "metadata": {
  "kernelspec": {
   "display_name": "Python 3",
   "language": "python",
   "name": "python3"
  },
  "language_info": {
   "codemirror_mode": {
    "name": "ipython",
    "version": 3
   },
   "file_extension": ".py",
   "mimetype": "text/x-python",
   "name": "python",
   "nbconvert_exporter": "python",
   "pygments_lexer": "ipython3",
   "version": "3.11.3"
  }
 },
 "nbformat": 4,
 "nbformat_minor": 2
}
