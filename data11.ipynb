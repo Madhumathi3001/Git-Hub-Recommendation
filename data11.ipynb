{
 "cells": [
  {
   "cell_type": "markdown",
   "metadata": {},
   "source": [
    "# Data Extraction"
   ]
  },
  {
   "cell_type": "code",
   "execution_count": 5,
   "metadata": {},
   "outputs": [
    {
     "name": "stdout",
     "output_type": "stream",
     "text": [
      "✅ GitHub API key loaded successfully. Ready to access GitHub API.\n",
      "✅ MongoDB URI loaded successfully. Ready to access MongoDB.\n",
      "🚀 Starting GitHub user data collection...\n"
     ]
    },
    {
     "name": "stderr",
     "output_type": "stream",
     "text": [
      "Processing batch:   0%|          | 0/50 [00:00<?, ?it/s]"
     ]
    },
    {
     "name": "stdout",
     "output_type": "stream",
     "text": [
      "🔍 Collecting data for user: mojombo\n"
     ]
    },
    {
     "name": "stderr",
     "output_type": "stream",
     "text": [
      "Processing batch:   2%|▏         | 1/50 [00:32<26:24, 32.34s/it]"
     ]
    },
    {
     "name": "stdout",
     "output_type": "stream",
     "text": [
      "✅ Data stored/updated for user: mojombo\n",
      "🔍 Collecting data for user: defunkt\n"
     ]
    },
    {
     "name": "stderr",
     "output_type": "stream",
     "text": [
      "Processing batch:   4%|▍         | 2/50 [01:02<24:49, 31.03s/it]"
     ]
    },
    {
     "name": "stdout",
     "output_type": "stream",
     "text": [
      "✅ Data stored/updated for user: defunkt\n",
      "🔍 Collecting data for user: pjhyett\n"
     ]
    },
    {
     "name": "stderr",
     "output_type": "stream",
     "text": [
      "Processing batch:   6%|▌         | 3/50 [01:18<18:53, 24.11s/it]"
     ]
    },
    {
     "name": "stdout",
     "output_type": "stream",
     "text": [
      "✅ Data stored/updated for user: pjhyett\n",
      "🔍 Collecting data for user: wycats\n"
     ]
    },
    {
     "name": "stderr",
     "output_type": "stream",
     "text": [
      "Processing batch:   8%|▊         | 4/50 [01:57<23:05, 30.12s/it]"
     ]
    },
    {
     "name": "stdout",
     "output_type": "stream",
     "text": [
      "✅ Data stored/updated for user: wycats\n",
      "🔍 Collecting data for user: ezmobius\n"
     ]
    },
    {
     "name": "stderr",
     "output_type": "stream",
     "text": [
      "Processing batch:  10%|█         | 5/50 [02:27<22:35, 30.11s/it]"
     ]
    },
    {
     "name": "stdout",
     "output_type": "stream",
     "text": [
      "✅ Data stored/updated for user: ezmobius\n",
      "🔍 Collecting data for user: ivey\n"
     ]
    },
    {
     "name": "stderr",
     "output_type": "stream",
     "text": [
      "Processing batch:  12%|█▏        | 6/50 [03:11<25:32, 34.84s/it]"
     ]
    },
    {
     "name": "stdout",
     "output_type": "stream",
     "text": [
      "✅ Data stored/updated for user: ivey\n",
      "🔍 Collecting data for user: evanphx\n"
     ]
    },
    {
     "name": "stderr",
     "output_type": "stream",
     "text": [
      "Processing batch:  14%|█▍        | 7/50 [03:44<24:22, 34.00s/it]"
     ]
    },
    {
     "name": "stdout",
     "output_type": "stream",
     "text": [
      "✅ Data stored/updated for user: evanphx\n",
      "🔍 Collecting data for user: vanpelt\n"
     ]
    },
    {
     "name": "stderr",
     "output_type": "stream",
     "text": [
      "Processing batch:  16%|█▌        | 8/50 [04:14<22:58, 32.83s/it]"
     ]
    },
    {
     "name": "stdout",
     "output_type": "stream",
     "text": [
      "✅ Data stored/updated for user: vanpelt\n",
      "🔍 Collecting data for user: wayneeseguin\n"
     ]
    },
    {
     "name": "stderr",
     "output_type": "stream",
     "text": [
      "Processing batch:  18%|█▊        | 9/50 [04:43<21:43, 31.79s/it]"
     ]
    },
    {
     "name": "stdout",
     "output_type": "stream",
     "text": [
      "✅ Data stored/updated for user: wayneeseguin\n",
      "🔍 Collecting data for user: brynary\n"
     ]
    },
    {
     "name": "stderr",
     "output_type": "stream",
     "text": [
      "Processing batch:  20%|██        | 10/50 [05:04<18:49, 28.23s/it]"
     ]
    },
    {
     "name": "stdout",
     "output_type": "stream",
     "text": [
      "✅ Data stored/updated for user: brynary\n",
      "🔍 Collecting data for user: kevinclark\n"
     ]
    },
    {
     "name": "stderr",
     "output_type": "stream",
     "text": [
      "Processing batch:  22%|██▏       | 11/50 [05:33<18:37, 28.66s/it]"
     ]
    },
    {
     "name": "stdout",
     "output_type": "stream",
     "text": [
      "✅ Data stored/updated for user: kevinclark\n",
      "🔍 Collecting data for user: technoweenie\n"
     ]
    },
    {
     "name": "stderr",
     "output_type": "stream",
     "text": [
      "Processing batch:  24%|██▍       | 12/50 [06:07<19:11, 30.30s/it]"
     ]
    },
    {
     "name": "stdout",
     "output_type": "stream",
     "text": [
      "✅ Data stored/updated for user: technoweenie\n",
      "🔍 Collecting data for user: macournoyer\n"
     ]
    },
    {
     "name": "stderr",
     "output_type": "stream",
     "text": [
      "Processing batch:  26%|██▌       | 13/50 [06:39<18:52, 30.62s/it]"
     ]
    },
    {
     "name": "stdout",
     "output_type": "stream",
     "text": [
      "✅ Data stored/updated for user: macournoyer\n",
      "🔍 Collecting data for user: takeo\n"
     ]
    },
    {
     "name": "stderr",
     "output_type": "stream",
     "text": [
      "Processing batch:  28%|██▊       | 14/50 [06:58<16:14, 27.06s/it]"
     ]
    },
    {
     "name": "stdout",
     "output_type": "stream",
     "text": [
      "✅ Data stored/updated for user: takeo\n",
      "🔍 Collecting data for user: caged\n"
     ]
    },
    {
     "name": "stderr",
     "output_type": "stream",
     "text": [
      "Processing batch:  30%|███       | 15/50 [07:40<18:34, 31.85s/it]"
     ]
    },
    {
     "name": "stdout",
     "output_type": "stream",
     "text": [
      "✅ Data stored/updated for user: caged\n",
      "🔍 Collecting data for user: topfunky\n"
     ]
    },
    {
     "name": "stderr",
     "output_type": "stream",
     "text": [
      "Processing batch:  32%|███▏      | 16/50 [08:21<19:31, 34.45s/it]"
     ]
    },
    {
     "name": "stdout",
     "output_type": "stream",
     "text": [
      "✅ Data stored/updated for user: topfunky\n",
      "🔍 Collecting data for user: anotherjesse\n"
     ]
    },
    {
     "name": "stderr",
     "output_type": "stream",
     "text": [
      "Processing batch:  34%|███▍      | 17/50 [09:00<19:45, 35.92s/it]"
     ]
    },
    {
     "name": "stdout",
     "output_type": "stream",
     "text": [
      "✅ Data stored/updated for user: anotherjesse\n",
      "🔍 Collecting data for user: roland\n"
     ]
    },
    {
     "name": "stderr",
     "output_type": "stream",
     "text": [
      "Processing batch:  36%|███▌      | 18/50 [09:09<14:45, 27.68s/it]"
     ]
    },
    {
     "name": "stdout",
     "output_type": "stream",
     "text": [
      "✅ Data stored/updated for user: roland\n",
      "🔍 Collecting data for user: lukas\n"
     ]
    },
    {
     "name": "stderr",
     "output_type": "stream",
     "text": [
      "Processing batch:  38%|███▊      | 19/50 [09:47<15:59, 30.95s/it]"
     ]
    },
    {
     "name": "stdout",
     "output_type": "stream",
     "text": [
      "✅ Data stored/updated for user: lukas\n",
      "🔍 Collecting data for user: fanvsfan\n"
     ]
    },
    {
     "name": "stderr",
     "output_type": "stream",
     "text": [
      "Processing batch:  40%|████      | 20/50 [09:53<11:36, 23.21s/it]"
     ]
    },
    {
     "name": "stdout",
     "output_type": "stream",
     "text": [
      "✅ Data stored/updated for user: fanvsfan\n",
      "🔍 Collecting data for user: tomtt\n"
     ]
    },
    {
     "name": "stderr",
     "output_type": "stream",
     "text": [
      "Processing batch:  42%|████▏     | 21/50 [10:31<13:27, 27.86s/it]"
     ]
    },
    {
     "name": "stdout",
     "output_type": "stream",
     "text": [
      "✅ Data stored/updated for user: tomtt\n",
      "🔍 Collecting data for user: railsjitsu\n"
     ]
    },
    {
     "name": "stderr",
     "output_type": "stream",
     "text": [
      "Processing batch:  44%|████▍     | 22/50 [10:36<09:47, 20.97s/it]"
     ]
    },
    {
     "name": "stdout",
     "output_type": "stream",
     "text": [
      "✅ Data stored/updated for user: railsjitsu\n",
      "🔍 Collecting data for user: nitay\n"
     ]
    },
    {
     "name": "stderr",
     "output_type": "stream",
     "text": [
      "Processing batch:  46%|████▌     | 23/50 [10:47<08:05, 18.00s/it]"
     ]
    },
    {
     "name": "stdout",
     "output_type": "stream",
     "text": [
      "✅ Data stored/updated for user: nitay\n",
      "🔍 Collecting data for user: kevwil\n"
     ]
    },
    {
     "name": "stderr",
     "output_type": "stream",
     "text": [
      "Processing batch:  48%|████▊     | 24/50 [11:27<10:34, 24.41s/it]"
     ]
    },
    {
     "name": "stdout",
     "output_type": "stream",
     "text": [
      "✅ Data stored/updated for user: kevwil\n",
      "🔍 Collecting data for user: KirinDave\n"
     ]
    },
    {
     "name": "stderr",
     "output_type": "stream",
     "text": [
      "Processing batch:  50%|█████     | 25/50 [11:58<11:04, 26.59s/it]"
     ]
    },
    {
     "name": "stdout",
     "output_type": "stream",
     "text": [
      "✅ Data stored/updated for user: KirinDave\n",
      "🔍 Collecting data for user: jamesgolick\n"
     ]
    },
    {
     "name": "stderr",
     "output_type": "stream",
     "text": [
      "Processing batch:  52%|█████▏    | 26/50 [12:27<10:51, 27.13s/it]"
     ]
    },
    {
     "name": "stdout",
     "output_type": "stream",
     "text": [
      "✅ Data stored/updated for user: jamesgolick\n",
      "🔍 Collecting data for user: atmos\n"
     ]
    },
    {
     "name": "stderr",
     "output_type": "stream",
     "text": [
      "Processing batch:  54%|█████▍    | 27/50 [12:59<10:57, 28.60s/it]"
     ]
    },
    {
     "name": "stdout",
     "output_type": "stream",
     "text": [
      "✅ Data stored/updated for user: atmos\n",
      "🔍 Collecting data for user: errfree\n"
     ]
    },
    {
     "name": "stderr",
     "output_type": "stream",
     "text": [
      "Processing batch:  56%|█████▌    | 28/50 [13:06<08:11, 22.36s/it]"
     ]
    },
    {
     "name": "stdout",
     "output_type": "stream",
     "text": [
      "✅ Data stored/updated for user: errfree\n",
      "🔍 Collecting data for user: mojodna\n"
     ]
    },
    {
     "name": "stderr",
     "output_type": "stream",
     "text": [
      "Processing batch:  58%|█████▊    | 29/50 [13:38<08:46, 25.05s/it]"
     ]
    },
    {
     "name": "stdout",
     "output_type": "stream",
     "text": [
      "✅ Data stored/updated for user: mojodna\n",
      "🔍 Collecting data for user: bmizerany\n"
     ]
    },
    {
     "name": "stderr",
     "output_type": "stream",
     "text": [
      "Processing batch:  60%|██████    | 30/50 [14:12<09:14, 27.70s/it]"
     ]
    },
    {
     "name": "stdout",
     "output_type": "stream",
     "text": [
      "✅ Data stored/updated for user: bmizerany\n",
      "🔍 Collecting data for user: jnewland\n"
     ]
    },
    {
     "name": "stderr",
     "output_type": "stream",
     "text": [
      "Processing batch:  62%|██████▏   | 31/50 [14:47<09:30, 30.04s/it]"
     ]
    },
    {
     "name": "stdout",
     "output_type": "stream",
     "text": [
      "✅ Data stored/updated for user: jnewland\n",
      "🔍 Collecting data for user: joshknowles\n"
     ]
    },
    {
     "name": "stderr",
     "output_type": "stream",
     "text": [
      "Processing batch:  64%|██████▍   | 32/50 [15:09<08:13, 27.43s/it]"
     ]
    },
    {
     "name": "stdout",
     "output_type": "stream",
     "text": [
      "✅ Data stored/updated for user: joshknowles\n",
      "🔍 Collecting data for user: hornbeck\n"
     ]
    },
    {
     "name": "stderr",
     "output_type": "stream",
     "text": [
      "Processing batch:  66%|██████▌   | 33/50 [15:25<06:47, 23.99s/it]"
     ]
    },
    {
     "name": "stdout",
     "output_type": "stream",
     "text": [
      "✅ Data stored/updated for user: hornbeck\n",
      "🔍 Collecting data for user: jwhitmire\n"
     ]
    },
    {
     "name": "stderr",
     "output_type": "stream",
     "text": [
      "Processing batch:  68%|██████▊   | 34/50 [15:55<06:57, 26.08s/it]"
     ]
    },
    {
     "name": "stdout",
     "output_type": "stream",
     "text": [
      "✅ Data stored/updated for user: jwhitmire\n",
      "🔍 Collecting data for user: elbowdonkey\n"
     ]
    },
    {
     "name": "stderr",
     "output_type": "stream",
     "text": [
      "Processing batch:  70%|███████   | 35/50 [16:30<07:08, 28.54s/it]"
     ]
    },
    {
     "name": "stdout",
     "output_type": "stream",
     "text": [
      "✅ Data stored/updated for user: elbowdonkey\n",
      "🔍 Collecting data for user: reinh\n"
     ]
    },
    {
     "name": "stderr",
     "output_type": "stream",
     "text": [
      "Processing batch:  72%|███████▏  | 36/50 [17:06<07:10, 30.76s/it]"
     ]
    },
    {
     "name": "stdout",
     "output_type": "stream",
     "text": [
      "✅ Data stored/updated for user: reinh\n",
      "🔍 Collecting data for user: knzai\n"
     ]
    },
    {
     "name": "stderr",
     "output_type": "stream",
     "text": [
      "Processing batch:  74%|███████▍  | 37/50 [17:37<06:43, 31.04s/it]"
     ]
    },
    {
     "name": "stdout",
     "output_type": "stream",
     "text": [
      "✅ Data stored/updated for user: knzai\n",
      "🔍 Collecting data for user: bs\n"
     ]
    },
    {
     "name": "stderr",
     "output_type": "stream",
     "text": [
      "Processing batch:  76%|███████▌  | 38/50 [18:11<06:23, 31.94s/it]"
     ]
    },
    {
     "name": "stdout",
     "output_type": "stream",
     "text": [
      "✅ Data stored/updated for user: bs\n",
      "🔍 Collecting data for user: rsanheim\n"
     ]
    },
    {
     "name": "stderr",
     "output_type": "stream",
     "text": [
      "Processing batch:  78%|███████▊  | 39/50 [18:48<06:07, 33.40s/it]"
     ]
    },
    {
     "name": "stdout",
     "output_type": "stream",
     "text": [
      "✅ Data stored/updated for user: rsanheim\n",
      "🔍 Collecting data for user: schacon\n"
     ]
    },
    {
     "name": "stderr",
     "output_type": "stream",
     "text": [
      "Processing batch:  80%|████████  | 40/50 [19:20<05:30, 33.02s/it]"
     ]
    },
    {
     "name": "stdout",
     "output_type": "stream",
     "text": [
      "✅ Data stored/updated for user: schacon\n",
      "🔍 Collecting data for user: uggedal\n"
     ]
    },
    {
     "name": "stderr",
     "output_type": "stream",
     "text": [
      "Processing batch:  82%|████████▏ | 41/50 [19:45<04:34, 30.45s/it]"
     ]
    },
    {
     "name": "stdout",
     "output_type": "stream",
     "text": [
      "✅ Data stored/updated for user: uggedal\n",
      "🔍 Collecting data for user: bruce\n"
     ]
    },
    {
     "name": "stderr",
     "output_type": "stream",
     "text": [
      "Processing batch:  84%|████████▍ | 42/50 [20:18<04:10, 31.30s/it]"
     ]
    },
    {
     "name": "stdout",
     "output_type": "stream",
     "text": [
      "✅ Data stored/updated for user: bruce\n",
      "🔍 Collecting data for user: sam\n"
     ]
    },
    {
     "name": "stderr",
     "output_type": "stream",
     "text": [
      "Processing batch:  86%|████████▌ | 43/50 [20:57<03:54, 33.46s/it]"
     ]
    },
    {
     "name": "stdout",
     "output_type": "stream",
     "text": [
      "✅ Data stored/updated for user: sam\n",
      "🔍 Collecting data for user: mmower\n"
     ]
    },
    {
     "name": "stderr",
     "output_type": "stream",
     "text": [
      "Processing batch:  88%|████████▊ | 44/50 [21:39<03:37, 36.23s/it]"
     ]
    },
    {
     "name": "stdout",
     "output_type": "stream",
     "text": [
      "✅ Data stored/updated for user: mmower\n",
      "🔍 Collecting data for user: abhay\n"
     ]
    },
    {
     "name": "stderr",
     "output_type": "stream",
     "text": [
      "Processing batch:  90%|█████████ | 45/50 [22:10<02:53, 34.61s/it]"
     ]
    },
    {
     "name": "stdout",
     "output_type": "stream",
     "text": [
      "✅ Data stored/updated for user: abhay\n",
      "🔍 Collecting data for user: rabble\n"
     ]
    },
    {
     "name": "stderr",
     "output_type": "stream",
     "text": [
      "Processing batch:  92%|█████████▏| 46/50 [22:46<02:20, 35.11s/it]"
     ]
    },
    {
     "name": "stdout",
     "output_type": "stream",
     "text": [
      "✅ Data stored/updated for user: rabble\n",
      "🔍 Collecting data for user: benburkert\n"
     ]
    },
    {
     "name": "stderr",
     "output_type": "stream",
     "text": [
      "Processing batch:  94%|█████████▍| 47/50 [23:20<01:43, 34.55s/it]"
     ]
    },
    {
     "name": "stdout",
     "output_type": "stream",
     "text": [
      "✅ Data stored/updated for user: benburkert\n",
      "🔍 Collecting data for user: indirect\n"
     ]
    },
    {
     "name": "stderr",
     "output_type": "stream",
     "text": [
      "Processing batch:  96%|█████████▌| 48/50 [23:48<01:05, 32.73s/it]"
     ]
    },
    {
     "name": "stdout",
     "output_type": "stream",
     "text": [
      "✅ Data stored/updated for user: indirect\n",
      "🔍 Collecting data for user: fearoffish\n"
     ]
    },
    {
     "name": "stderr",
     "output_type": "stream",
     "text": [
      "Processing batch:  98%|█████████▊| 49/50 [24:19<00:32, 32.29s/it]"
     ]
    },
    {
     "name": "stdout",
     "output_type": "stream",
     "text": [
      "✅ Data stored/updated for user: fearoffish\n",
      "🔍 Collecting data for user: ry\n"
     ]
    },
    {
     "name": "stderr",
     "output_type": "stream",
     "text": [
      "Processing batch: 100%|██████████| 50/50 [24:46<00:00, 29.73s/it]"
     ]
    },
    {
     "name": "stdout",
     "output_type": "stream",
     "text": [
      "✅ Data stored/updated for user: ry\n"
     ]
    },
    {
     "name": "stderr",
     "output_type": "stream",
     "text": [
      "\n",
      "Processing batch:   0%|          | 0/50 [00:00<?, ?it/s]"
     ]
    },
    {
     "name": "stdout",
     "output_type": "stream",
     "text": [
      "🔍 Collecting data for user: engineyard\n"
     ]
    },
    {
     "name": "stderr",
     "output_type": "stream",
     "text": [
      "Processing batch:   2%|▏         | 1/50 [00:26<21:51, 26.76s/it]"
     ]
    },
    {
     "name": "stdout",
     "output_type": "stream",
     "text": [
      "✅ Data stored/updated for user: engineyard\n",
      "🔍 Collecting data for user: jsierles\n"
     ]
    },
    {
     "name": "stderr",
     "output_type": "stream",
     "text": [
      "Processing batch:   4%|▍         | 2/50 [00:51<20:36, 25.75s/it]"
     ]
    },
    {
     "name": "stdout",
     "output_type": "stream",
     "text": [
      "✅ Data stored/updated for user: jsierles\n",
      "🔍 Collecting data for user: tweibley\n"
     ]
    },
    {
     "name": "stderr",
     "output_type": "stream",
     "text": [
      "Processing batch:   6%|▌         | 3/50 [01:06<16:09, 20.63s/it]"
     ]
    },
    {
     "name": "stdout",
     "output_type": "stream",
     "text": [
      "✅ Data stored/updated for user: tweibley\n",
      "🔍 Collecting data for user: peimei\n"
     ]
    },
    {
     "name": "stderr",
     "output_type": "stream",
     "text": [
      "Processing batch:   8%|▊         | 4/50 [01:17<13:02, 17.01s/it]"
     ]
    },
    {
     "name": "stdout",
     "output_type": "stream",
     "text": [
      "✅ Data stored/updated for user: peimei\n",
      "🔍 Collecting data for user: brixen\n"
     ]
    },
    {
     "name": "stderr",
     "output_type": "stream",
     "text": [
      "Processing batch:  10%|█         | 5/50 [01:46<15:50, 21.13s/it]"
     ]
    },
    {
     "name": "stdout",
     "output_type": "stream",
     "text": [
      "✅ Data stored/updated for user: brixen\n",
      "🔍 Collecting data for user: tmornini\n"
     ]
    },
    {
     "name": "stderr",
     "output_type": "stream",
     "text": [
      "Processing batch:  12%|█▏        | 6/50 [02:10<16:11, 22.08s/it]"
     ]
    },
    {
     "name": "stdout",
     "output_type": "stream",
     "text": [
      "✅ Data stored/updated for user: tmornini\n",
      "🔍 Collecting data for user: outerim\n"
     ]
    },
    {
     "name": "stderr",
     "output_type": "stream",
     "text": [
      "Processing batch:  14%|█▍        | 7/50 [02:40<17:42, 24.70s/it]"
     ]
    },
    {
     "name": "stdout",
     "output_type": "stream",
     "text": [
      "✅ Data stored/updated for user: outerim\n",
      "🔍 Collecting data for user: daksis\n"
     ]
    },
    {
     "name": "stderr",
     "output_type": "stream",
     "text": [
      "Processing batch:  16%|█▌        | 8/50 [02:52<14:29, 20.71s/it]"
     ]
    },
    {
     "name": "stdout",
     "output_type": "stream",
     "text": [
      "✅ Data stored/updated for user: daksis\n",
      "🔍 Collecting data for user: sr\n"
     ]
    },
    {
     "name": "stderr",
     "output_type": "stream",
     "text": [
      "Processing batch:  18%|█▊        | 9/50 [03:30<17:45, 26.00s/it]"
     ]
    },
    {
     "name": "stdout",
     "output_type": "stream",
     "text": [
      "✅ Data stored/updated for user: sr\n",
      "🔍 Collecting data for user: lifo\n"
     ]
    },
    {
     "name": "stderr",
     "output_type": "stream",
     "text": [
      "Processing batch:  20%|██        | 10/50 [03:53<16:44, 25.11s/it]"
     ]
    },
    {
     "name": "stdout",
     "output_type": "stream",
     "text": [
      "✅ Data stored/updated for user: lifo\n",
      "🔍 Collecting data for user: rsl\n"
     ]
    },
    {
     "name": "stderr",
     "output_type": "stream",
     "text": [
      "Processing batch:  22%|██▏       | 11/50 [04:26<17:59, 27.67s/it]"
     ]
    },
    {
     "name": "stdout",
     "output_type": "stream",
     "text": [
      "✅ Data stored/updated for user: rsl\n",
      "🔍 Collecting data for user: imownbey\n"
     ]
    },
    {
     "name": "stderr",
     "output_type": "stream",
     "text": [
      "Processing batch:  24%|██▍       | 12/50 [04:59<18:26, 29.11s/it]"
     ]
    },
    {
     "name": "stdout",
     "output_type": "stream",
     "text": [
      "✅ Data stored/updated for user: imownbey\n",
      "🔍 Collecting data for user: dylanegan\n"
     ]
    },
    {
     "name": "stderr",
     "output_type": "stream",
     "text": [
      "Processing batch:  26%|██▌       | 13/50 [05:30<18:20, 29.74s/it]"
     ]
    },
    {
     "name": "stdout",
     "output_type": "stream",
     "text": [
      "✅ Data stored/updated for user: dylanegan\n",
      "🔍 Collecting data for user: jm\n"
     ]
    },
    {
     "name": "stderr",
     "output_type": "stream",
     "text": [
      "Processing batch:  28%|██▊       | 14/50 [06:06<18:56, 31.58s/it]"
     ]
    },
    {
     "name": "stdout",
     "output_type": "stream",
     "text": [
      "✅ Data stored/updated for user: jm\n",
      "🔍 Collecting data for user: kmarsh\n"
     ]
    },
    {
     "name": "stderr",
     "output_type": "stream",
     "text": [
      "Processing batch:  30%|███       | 15/50 [06:42<19:14, 32.99s/it]"
     ]
    },
    {
     "name": "stdout",
     "output_type": "stream",
     "text": [
      "✅ Data stored/updated for user: kmarsh\n",
      "🔍 Collecting data for user: jvantuyl\n"
     ]
    },
    {
     "name": "stderr",
     "output_type": "stream",
     "text": [
      "Processing batch:  32%|███▏      | 16/50 [07:16<18:55, 33.39s/it]"
     ]
    },
    {
     "name": "stdout",
     "output_type": "stream",
     "text": [
      "✅ Data stored/updated for user: jvantuyl\n",
      "🔍 Collecting data for user: BrianTheCoder\n"
     ]
    },
    {
     "name": "stderr",
     "output_type": "stream",
     "text": [
      "Processing batch:  34%|███▍      | 17/50 [07:49<18:14, 33.17s/it]"
     ]
    },
    {
     "name": "stdout",
     "output_type": "stream",
     "text": [
      "✅ Data stored/updated for user: BrianTheCoder\n",
      "🔍 Collecting data for user: freeformz\n"
     ]
    },
    {
     "name": "stderr",
     "output_type": "stream",
     "text": [
      "Processing batch:  36%|███▌      | 18/50 [08:28<18:40, 35.03s/it]"
     ]
    },
    {
     "name": "stdout",
     "output_type": "stream",
     "text": [
      "✅ Data stored/updated for user: freeformz\n",
      "🔍 Collecting data for user: hassox\n"
     ]
    },
    {
     "name": "stderr",
     "output_type": "stream",
     "text": [
      "Processing batch:  38%|███▊      | 19/50 [09:03<18:01, 34.90s/it]"
     ]
    },
    {
     "name": "stdout",
     "output_type": "stream",
     "text": [
      "✅ Data stored/updated for user: hassox\n",
      "🔍 Collecting data for user: automatthew\n"
     ]
    },
    {
     "name": "stderr",
     "output_type": "stream",
     "text": [
      "Processing batch:  40%|████      | 20/50 [09:34<16:50, 33.68s/it]"
     ]
    },
    {
     "name": "stdout",
     "output_type": "stream",
     "text": [
      "✅ Data stored/updated for user: automatthew\n",
      "🔍 Collecting data for user: queso\n"
     ]
    },
    {
     "name": "stderr",
     "output_type": "stream",
     "text": [
      "Processing batch:  42%|████▏     | 21/50 [09:57<14:48, 30.63s/it]"
     ]
    },
    {
     "name": "stdout",
     "output_type": "stream",
     "text": [
      "✅ Data stored/updated for user: queso\n",
      "🔍 Collecting data for user: lancecarlson\n"
     ]
    },
    {
     "name": "stderr",
     "output_type": "stream",
     "text": [
      "Processing batch:  44%|████▍     | 22/50 [10:24<13:44, 29.44s/it]"
     ]
    },
    {
     "name": "stdout",
     "output_type": "stream",
     "text": [
      "✅ Data stored/updated for user: lancecarlson\n",
      "🔍 Collecting data for user: drnic\n"
     ]
    },
    {
     "name": "stderr",
     "output_type": "stream",
     "text": [
      "Processing batch:  46%|████▌     | 23/50 [10:50<12:47, 28.44s/it]"
     ]
    },
    {
     "name": "stdout",
     "output_type": "stream",
     "text": [
      "✅ Data stored/updated for user: drnic\n",
      "🔍 Collecting data for user: lukesutton\n"
     ]
    },
    {
     "name": "stderr",
     "output_type": "stream",
     "text": [
      "Processing batch:  48%|████▊     | 24/50 [11:09<11:09, 25.77s/it]"
     ]
    },
    {
     "name": "stdout",
     "output_type": "stream",
     "text": [
      "✅ Data stored/updated for user: lukesutton\n",
      "🔍 Collecting data for user: danwrong\n"
     ]
    },
    {
     "name": "stderr",
     "output_type": "stream",
     "text": [
      "Processing batch:  50%|█████     | 25/50 [11:39<11:11, 26.85s/it]"
     ]
    },
    {
     "name": "stdout",
     "output_type": "stream",
     "text": [
      "✅ Data stored/updated for user: danwrong\n",
      "🔍 Collecting data for user: HamptonMakes\n"
     ]
    },
    {
     "name": "stderr",
     "output_type": "stream",
     "text": [
      "Processing batch:  52%|█████▏    | 26/50 [12:06<10:45, 26.90s/it]"
     ]
    },
    {
     "name": "stdout",
     "output_type": "stream",
     "text": [
      "✅ Data stored/updated for user: HamptonMakes\n",
      "🔍 Collecting data for user: jfrost\n"
     ]
    },
    {
     "name": "stderr",
     "output_type": "stream",
     "text": [
      "Processing batch:  54%|█████▍    | 27/50 [12:18<08:34, 22.37s/it]"
     ]
    },
    {
     "name": "stdout",
     "output_type": "stream",
     "text": [
      "✅ Data stored/updated for user: jfrost\n",
      "🔍 Collecting data for user: mattetti\n"
     ]
    },
    {
     "name": "stderr",
     "output_type": "stream",
     "text": [
      "Processing batch:  56%|█████▌    | 28/50 [12:48<09:01, 24.63s/it]"
     ]
    },
    {
     "name": "stdout",
     "output_type": "stream",
     "text": [
      "✅ Data stored/updated for user: mattetti\n",
      "🔍 Collecting data for user: ctennis\n"
     ]
    },
    {
     "name": "stderr",
     "output_type": "stream",
     "text": [
      "Processing batch:  58%|█████▊    | 29/50 [12:58<07:11, 20.53s/it]"
     ]
    },
    {
     "name": "stdout",
     "output_type": "stream",
     "text": [
      "✅ Data stored/updated for user: ctennis\n",
      "🔍 Collecting data for user: lawrencepit\n"
     ]
    },
    {
     "name": "stderr",
     "output_type": "stream",
     "text": [
      "Processing batch:  60%|██████    | 30/50 [13:23<07:12, 21.62s/it]"
     ]
    },
    {
     "name": "stdout",
     "output_type": "stream",
     "text": [
      "✅ Data stored/updated for user: lawrencepit\n",
      "🔍 Collecting data for user: marcjeanson\n"
     ]
    },
    {
     "name": "stderr",
     "output_type": "stream",
     "text": [
      "Processing batch:  62%|██████▏   | 31/50 [13:56<08:00, 25.27s/it]"
     ]
    },
    {
     "name": "stdout",
     "output_type": "stream",
     "text": [
      "✅ Data stored/updated for user: marcjeanson\n",
      "🔍 Collecting data for user: grempe\n"
     ]
    },
    {
     "name": "stderr",
     "output_type": "stream",
     "text": [
      "Processing batch:  64%|██████▍   | 32/50 [14:33<08:37, 28.74s/it]"
     ]
    },
    {
     "name": "stdout",
     "output_type": "stream",
     "text": [
      "✅ Data stored/updated for user: grempe\n",
      "🔍 Collecting data for user: peterc\n"
     ]
    },
    {
     "name": "stderr",
     "output_type": "stream",
     "text": [
      "Processing batch:  66%|██████▌   | 33/50 [15:10<08:51, 31.25s/it]"
     ]
    },
    {
     "name": "stdout",
     "output_type": "stream",
     "text": [
      "✅ Data stored/updated for user: peterc\n",
      "🔍 Collecting data for user: ministrycentered\n"
     ]
    },
    {
     "name": "stderr",
     "output_type": "stream",
     "text": [
      "Processing batch:  68%|██████▊   | 34/50 [15:31<07:30, 28.14s/it]"
     ]
    },
    {
     "name": "stdout",
     "output_type": "stream",
     "text": [
      "✅ Data stored/updated for user: ministrycentered\n",
      "🔍 Collecting data for user: afarnham\n"
     ]
    },
    {
     "name": "stderr",
     "output_type": "stream",
     "text": [
      "Processing batch:  70%|███████   | 35/50 [16:00<07:04, 28.28s/it]"
     ]
    },
    {
     "name": "stdout",
     "output_type": "stream",
     "text": [
      "✅ Data stored/updated for user: afarnham\n",
      "🔍 Collecting data for user: up_the_irons\n"
     ]
    },
    {
     "name": "stderr",
     "output_type": "stream",
     "text": [
      "Processing batch:  72%|███████▏  | 36/50 [16:32<06:53, 29.52s/it]"
     ]
    },
    {
     "name": "stdout",
     "output_type": "stream",
     "text": [
      "✅ Data stored/updated for user: up_the_irons\n",
      "🔍 Collecting data for user: cristibalan\n"
     ]
    },
    {
     "name": "stderr",
     "output_type": "stream",
     "text": [
      "Processing batch:  74%|███████▍  | 37/50 [17:05<06:34, 30.36s/it]"
     ]
    },
    {
     "name": "stdout",
     "output_type": "stream",
     "text": [
      "✅ Data stored/updated for user: cristibalan\n",
      "🔍 Collecting data for user: heavysixer\n"
     ]
    },
    {
     "name": "stderr",
     "output_type": "stream",
     "text": [
      "Processing batch:  76%|███████▌  | 38/50 [17:44<06:37, 33.13s/it]"
     ]
    },
    {
     "name": "stdout",
     "output_type": "stream",
     "text": [
      "✅ Data stored/updated for user: heavysixer\n",
      "🔍 Collecting data for user: brosner\n"
     ]
    },
    {
     "name": "stderr",
     "output_type": "stream",
     "text": [
      "Processing batch:  78%|███████▊  | 39/50 [18:22<06:20, 34.59s/it]"
     ]
    },
    {
     "name": "stdout",
     "output_type": "stream",
     "text": [
      "✅ Data stored/updated for user: brosner\n",
      "🔍 Collecting data for user: danielmorrison\n"
     ]
    },
    {
     "name": "stderr",
     "output_type": "stream",
     "text": [
      "Processing batch:  80%|████████  | 40/50 [18:47<05:15, 31.55s/it]"
     ]
    },
    {
     "name": "stdout",
     "output_type": "stream",
     "text": [
      "✅ Data stored/updated for user: danielmorrison\n",
      "🔍 Collecting data for user: danielharan\n"
     ]
    },
    {
     "name": "stderr",
     "output_type": "stream",
     "text": [
      "Processing batch:  82%|████████▏ | 41/50 [19:20<04:48, 32.08s/it]"
     ]
    },
    {
     "name": "stdout",
     "output_type": "stream",
     "text": [
      "✅ Data stored/updated for user: danielharan\n",
      "🔍 Collecting data for user: kvnsmth\n"
     ]
    },
    {
     "name": "stderr",
     "output_type": "stream",
     "text": [
      "Processing batch:  84%|████████▍ | 42/50 [19:44<03:57, 29.74s/it]"
     ]
    },
    {
     "name": "stdout",
     "output_type": "stream",
     "text": [
      "✅ Data stored/updated for user: kvnsmth\n",
      "🔍 Collecting data for user: collectiveidea\n"
     ]
    },
    {
     "name": "stderr",
     "output_type": "stream",
     "text": [
      "Processing batch:  86%|████████▌ | 43/50 [20:17<03:35, 30.79s/it]"
     ]
    },
    {
     "name": "stdout",
     "output_type": "stream",
     "text": [
      "✅ Data stored/updated for user: collectiveidea\n",
      "🔍 Collecting data for user: canadaduane\n"
     ]
    },
    {
     "name": "stderr",
     "output_type": "stream",
     "text": [
      "Processing batch:  88%|████████▊ | 44/50 [20:52<03:11, 31.91s/it]"
     ]
    },
    {
     "name": "stdout",
     "output_type": "stream",
     "text": [
      "✅ Data stored/updated for user: canadaduane\n",
      "🔍 Collecting data for user: corasaurus-hex\n"
     ]
    },
    {
     "name": "stderr",
     "output_type": "stream",
     "text": [
      "Processing batch:  90%|█████████ | 45/50 [21:25<02:40, 32.20s/it]"
     ]
    },
    {
     "name": "stdout",
     "output_type": "stream",
     "text": [
      "✅ Data stored/updated for user: corasaurus-hex\n",
      "🔍 Collecting data for user: dstrelau\n"
     ]
    },
    {
     "name": "stderr",
     "output_type": "stream",
     "text": [
      "Processing batch:  92%|█████████▏| 46/50 [21:52<02:02, 30.63s/it]"
     ]
    },
    {
     "name": "stdout",
     "output_type": "stream",
     "text": [
      "✅ Data stored/updated for user: dstrelau\n",
      "🔍 Collecting data for user: sunny\n"
     ]
    },
    {
     "name": "stderr",
     "output_type": "stream",
     "text": [
      "Processing batch:  94%|█████████▍| 47/50 [22:19<01:28, 29.49s/it]"
     ]
    },
    {
     "name": "stdout",
     "output_type": "stream",
     "text": [
      "✅ Data stored/updated for user: sunny\n",
      "🔍 Collecting data for user: dkubb\n"
     ]
    },
    {
     "name": "stderr",
     "output_type": "stream",
     "text": [
      "Processing batch:  96%|█████████▌| 48/50 [22:50<01:00, 30.03s/it]"
     ]
    },
    {
     "name": "stdout",
     "output_type": "stream",
     "text": [
      "✅ Data stored/updated for user: dkubb\n",
      "🔍 Collecting data for user: jnicklas\n"
     ]
    },
    {
     "name": "stderr",
     "output_type": "stream",
     "text": [
      "Processing batch:  98%|█████████▊| 49/50 [23:20<00:30, 30.05s/it]"
     ]
    },
    {
     "name": "stdout",
     "output_type": "stream",
     "text": [
      "✅ Data stored/updated for user: jnicklas\n",
      "🔍 Collecting data for user: richcollins\n"
     ]
    },
    {
     "name": "stderr",
     "output_type": "stream",
     "text": [
      "Processing batch: 100%|██████████| 50/50 [23:47<00:00, 28.54s/it]"
     ]
    },
    {
     "name": "stdout",
     "output_type": "stream",
     "text": [
      "✅ Data stored/updated for user: richcollins\n",
      "🎉 Data collection complete!\n"
     ]
    },
    {
     "name": "stderr",
     "output_type": "stream",
     "text": [
      "\n"
     ]
    }
   ],
   "source": [
    "import os\n",
    "import requests\n",
    "import time\n",
    "from pymongo import MongoClient\n",
    "from tqdm import tqdm\n",
    "from dotenv import load_dotenv\n",
    "\n",
    "# Load environment variables\n",
    "load_dotenv(dotenv_path=r\"C:\\Users\\madhu\\OneDrive\\Desktop\\Project - Git Hub Recommendation\\Git-Hub-Recommendation\\password.env\")  # Use your absolute path\n",
    "GITHUB_TOKEN = os.getenv(\"GITHUB_API_KEY\")\n",
    "MONGO_URI = os.getenv(\"MONGO_URI\")\n",
    "\n",
    "if not GITHUB_TOKEN:\n",
    "    raise Exception(\"❌ GitHub API key is missing!\")\n",
    "else:\n",
    "    print(\"✅ GitHub API key loaded successfully. Ready to access GitHub API.\")\n",
    "\n",
    "if not MONGO_URI:\n",
    "    raise Exception(\"❌ MongoDB URI is missing!\")\n",
    "else:\n",
    "    print(\"✅ MongoDB URI loaded successfully. Ready to access MongoDB.\")\n",
    "\n",
    "# Headers for GitHub API\n",
    "HEADERS = {\n",
    "    \"Authorization\": f\"token {GITHUB_TOKEN}\",\n",
    "    \"Accept\": \"application/vnd.github.v3+json\"\n",
    "}\n",
    "\n",
    "# MongoDB setup\n",
    "client = MongoClient(MONGO_URI)\n",
    "db = client[\"github_recommendation_db\"]\n",
    "collection = db[\"Users__data\"]\n",
    "\n",
    "# Helper functions\n",
    "def get_json(url):\n",
    "    response = requests.get(url, headers=HEADERS)\n",
    "    if response.status_code == 403:  # Rate limit exceeded\n",
    "        print(\"⚠️ Rate limit hit. Waiting for 60 seconds...\")\n",
    "        time.sleep(60)\n",
    "        response = requests.get(url, headers=HEADERS)\n",
    "    response.raise_for_status()\n",
    "    return response.json()\n",
    "\n",
    "def get_users_batch(since=0, per_page=100):\n",
    "    url = f\"https://api.github.com/users?since={since}&per_page={per_page}\"\n",
    "    return get_json(url)\n",
    "\n",
    "def get_user_details(username):\n",
    "    url = f\"https://api.github.com/users/{username}\"\n",
    "    return get_json(url)\n",
    "\n",
    "def get_list(url, key='login'):\n",
    "    return [item[key] for item in get_json(url)]\n",
    "\n",
    "def get_starred_or_subs(url):\n",
    "    return [item['html_url'] for item in get_json(url)]\n",
    "\n",
    "def get_languages(username):\n",
    "    repos = get_json(f\"https://api.github.com/users/{username}/repos\")\n",
    "    language_data = {}\n",
    "    for repo in repos:\n",
    "        langs = get_json(repo['languages_url'])\n",
    "        for lang, count in langs.items():\n",
    "            language_data[lang] = language_data.get(lang, 0) + count\n",
    "    return language_data\n",
    "\n",
    "def get_total_commits(username):\n",
    "    repos = get_json(f\"https://api.github.com/users/{username}/repos\")\n",
    "    total = 0\n",
    "    for repo in repos:\n",
    "        if repo.get('fork'):\n",
    "            continue\n",
    "        url = repo['commits_url'].replace(\"{/sha}\", \"\")\n",
    "        commits = requests.get(url, headers=HEADERS, params={'per_page': 1}).json()\n",
    "        if isinstance(commits, list):\n",
    "            total += len(commits)\n",
    "    return total\n",
    "\n",
    "def collect_and_store_user(username):\n",
    "    try:\n",
    "        print(f\"🔍 Collecting data for user: {username}\")\n",
    "        user = get_user_details(username)\n",
    "        data = {\n",
    "            \"Login\": username,\n",
    "            \"Name\": user.get(\"name\"),\n",
    "            \"Bio\": user.get(\"bio\"),\n",
    "            \"Public Repositories\": user.get(\"public_repos\"),\n",
    "            \"Followers Count\": user.get(\"followers\"),\n",
    "            \"Following Count\": user.get(\"following\"),\n",
    "            \"Created At\": user.get(\"created_at\"),\n",
    "            \"Updated At\": user.get(\"updated_at\"),\n",
    "            \"Avatar URL\": user.get(\"avatar_url\"),\n",
    "            \"Profile URL\": user.get(\"html_url\"),\n",
    "            \"Followers List\": get_list(f\"https://api.github.com/users/{username}/followers\"),\n",
    "            \"Following List\": get_list(f\"https://api.github.com/users/{username}/following\"),\n",
    "            \"Starred Repositories\": get_starred_or_subs(f\"https://api.github.com/users/{username}/starred\"),\n",
    "            \"Subscriptions\": get_starred_or_subs(f\"https://api.github.com/users/{username}/subscriptions\"),\n",
    "            \"Organizations\": get_list(f\"https://api.github.com/users/{username}/orgs\"),\n",
    "            \"Languages\": get_languages(username),\n",
    "            \"Total Commits\": get_total_commits(username)\n",
    "        }\n",
    "        collection.update_one({\"Login\": username}, {\"$set\": data}, upsert=True)\n",
    "        print(f\"✅ Data stored/updated for user: {username}\")\n",
    "    except Exception as e:\n",
    "        print(f\"❌ Error collecting data for {username}: {e}\")\n",
    "\n",
    "def batch_process_users(start_since=0, batches=1, per_page=10):\n",
    "    since = start_since\n",
    "    for _ in range(batches):\n",
    "        users = get_users_batch(since, per_page)\n",
    "        if not users:\n",
    "            print(\"⚠️ No more users found. Ending batch processing.\")\n",
    "            break\n",
    "        for user in tqdm(users, desc=\"Processing batch\"):\n",
    "            collect_and_store_user(user['login'])\n",
    "        since = users[-1]['id']\n",
    "\n",
    "def fetch_user_if_not_exists(username):\n",
    "    if collection.find_one({\"Login\": username}):\n",
    "        print(f\"✅ User {username} already exists in DB.\")\n",
    "    else:\n",
    "        print(f\"🔍 Fetching data for missing user: {username}\")\n",
    "        collect_and_store_user(username)\n",
    "\n",
    "# === Entry Point ===\n",
    "if __name__ == \"__main__\":\n",
    "    print(\"🚀 Starting GitHub user data collection...\")\n",
    "    batch_process_users(start_since=0, batches=2, per_page=50)\n",
    "    print(\"🎉 Data collection complete!\")\n",
    "\n"
   ]
  }
 ],
 "metadata": {
  "kernelspec": {
   "display_name": "Python 3",
   "language": "python",
   "name": "python3"
  },
  "language_info": {
   "codemirror_mode": {
    "name": "ipython",
    "version": 3
   },
   "file_extension": ".py",
   "mimetype": "text/x-python",
   "name": "python",
   "nbconvert_exporter": "python",
   "pygments_lexer": "ipython3",
   "version": "3.11.3"
  }
 },
 "nbformat": 4,
 "nbformat_minor": 2
}
