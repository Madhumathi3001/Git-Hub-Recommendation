{
 "cells": [
  {
   "cell_type": "code",
   "execution_count": 1,
   "metadata": {},
   "outputs": [
    {
     "name": "stderr",
     "output_type": "stream",
     "text": [
      "Processing batch:   4%|▍         | 1/25 [00:30<12:14, 30.59s/it]"
     ]
    },
    {
     "name": "stdout",
     "output_type": "stream",
     "text": [
      "✅ Data stored for mojombo\n"
     ]
    },
    {
     "name": "stderr",
     "output_type": "stream",
     "text": [
      "Processing batch:   8%|▊         | 2/25 [01:08<13:24, 34.98s/it]"
     ]
    },
    {
     "name": "stdout",
     "output_type": "stream",
     "text": [
      "✅ Data stored for defunkt\n"
     ]
    },
    {
     "name": "stderr",
     "output_type": "stream",
     "text": [
      "Processing batch:  12%|█▏        | 3/25 [01:23<09:24, 25.65s/it]"
     ]
    },
    {
     "name": "stdout",
     "output_type": "stream",
     "text": [
      "✅ Data stored for pjhyett\n"
     ]
    },
    {
     "name": "stderr",
     "output_type": "stream",
     "text": [
      "Processing batch:  16%|█▌        | 4/25 [02:00<10:32, 30.11s/it]"
     ]
    },
    {
     "name": "stdout",
     "output_type": "stream",
     "text": [
      "✅ Data stored for wycats\n"
     ]
    },
    {
     "name": "stderr",
     "output_type": "stream",
     "text": [
      "Processing batch:  20%|██        | 5/25 [02:27<09:41, 29.09s/it]"
     ]
    },
    {
     "name": "stdout",
     "output_type": "stream",
     "text": [
      "✅ Data stored for ezmobius\n"
     ]
    },
    {
     "name": "stderr",
     "output_type": "stream",
     "text": [
      "Processing batch:  24%|██▍       | 6/25 [03:05<10:13, 32.29s/it]"
     ]
    },
    {
     "name": "stdout",
     "output_type": "stream",
     "text": [
      "✅ Data stored for ivey\n"
     ]
    },
    {
     "name": "stderr",
     "output_type": "stream",
     "text": [
      "Processing batch:  28%|██▊       | 7/25 [03:34<09:16, 30.94s/it]"
     ]
    },
    {
     "name": "stdout",
     "output_type": "stream",
     "text": [
      "✅ Data stored for evanphx\n"
     ]
    },
    {
     "name": "stderr",
     "output_type": "stream",
     "text": [
      "Processing batch:  32%|███▏      | 8/25 [04:02<08:34, 30.28s/it]"
     ]
    },
    {
     "name": "stdout",
     "output_type": "stream",
     "text": [
      "✅ Data stored for vanpelt\n"
     ]
    },
    {
     "name": "stderr",
     "output_type": "stream",
     "text": [
      "Processing batch:  36%|███▌      | 9/25 [04:33<08:03, 30.23s/it]"
     ]
    },
    {
     "name": "stdout",
     "output_type": "stream",
     "text": [
      "✅ Data stored for wayneeseguin\n"
     ]
    },
    {
     "name": "stderr",
     "output_type": "stream",
     "text": [
      "Processing batch:  40%|████      | 10/25 [04:56<07:00, 28.01s/it]"
     ]
    },
    {
     "name": "stdout",
     "output_type": "stream",
     "text": [
      "✅ Data stored for brynary\n"
     ]
    },
    {
     "name": "stderr",
     "output_type": "stream",
     "text": [
      "Processing batch:  44%|████▍     | 11/25 [05:32<07:08, 30.61s/it]"
     ]
    },
    {
     "name": "stdout",
     "output_type": "stream",
     "text": [
      "✅ Data stored for kevinclark\n"
     ]
    },
    {
     "name": "stderr",
     "output_type": "stream",
     "text": [
      "Processing batch:  48%|████▊     | 12/25 [06:04<06:41, 30.87s/it]"
     ]
    },
    {
     "name": "stdout",
     "output_type": "stream",
     "text": [
      "✅ Data stored for technoweenie\n"
     ]
    },
    {
     "name": "stderr",
     "output_type": "stream",
     "text": [
      "Processing batch:  52%|█████▏    | 13/25 [06:41<06:35, 32.93s/it]"
     ]
    },
    {
     "name": "stdout",
     "output_type": "stream",
     "text": [
      "✅ Data stored for macournoyer\n"
     ]
    },
    {
     "name": "stderr",
     "output_type": "stream",
     "text": [
      "Processing batch:  56%|█████▌    | 14/25 [07:02<05:21, 29.27s/it]"
     ]
    },
    {
     "name": "stdout",
     "output_type": "stream",
     "text": [
      "✅ Data stored for takeo\n"
     ]
    },
    {
     "name": "stderr",
     "output_type": "stream",
     "text": [
      "Processing batch:  60%|██████    | 15/25 [07:38<05:11, 31.16s/it]"
     ]
    },
    {
     "name": "stdout",
     "output_type": "stream",
     "text": [
      "✅ Data stored for caged\n"
     ]
    },
    {
     "name": "stderr",
     "output_type": "stream",
     "text": [
      "Processing batch:  64%|██████▍   | 16/25 [08:03<04:24, 29.35s/it]"
     ]
    },
    {
     "name": "stdout",
     "output_type": "stream",
     "text": [
      "✅ Data stored for topfunky\n"
     ]
    },
    {
     "name": "stderr",
     "output_type": "stream",
     "text": [
      "Processing batch:  68%|██████▊   | 17/25 [08:29<03:46, 28.37s/it]"
     ]
    },
    {
     "name": "stdout",
     "output_type": "stream",
     "text": [
      "✅ Data stored for anotherjesse\n"
     ]
    },
    {
     "name": "stderr",
     "output_type": "stream",
     "text": [
      "Processing batch:  72%|███████▏  | 18/25 [08:36<02:33, 21.96s/it]"
     ]
    },
    {
     "name": "stdout",
     "output_type": "stream",
     "text": [
      "✅ Data stored for roland\n"
     ]
    },
    {
     "name": "stderr",
     "output_type": "stream",
     "text": [
      "Processing batch:  76%|███████▌  | 19/25 [09:10<02:33, 25.57s/it]"
     ]
    },
    {
     "name": "stdout",
     "output_type": "stream",
     "text": [
      "✅ Data stored for lukas\n"
     ]
    },
    {
     "name": "stderr",
     "output_type": "stream",
     "text": [
      "Processing batch:  80%|████████  | 20/25 [09:14<01:36, 19.25s/it]"
     ]
    },
    {
     "name": "stdout",
     "output_type": "stream",
     "text": [
      "✅ Data stored for fanvsfan\n"
     ]
    },
    {
     "name": "stderr",
     "output_type": "stream",
     "text": [
      "Processing batch:  84%|████████▍ | 21/25 [09:48<01:34, 23.68s/it]"
     ]
    },
    {
     "name": "stdout",
     "output_type": "stream",
     "text": [
      "✅ Data stored for tomtt\n"
     ]
    },
    {
     "name": "stderr",
     "output_type": "stream",
     "text": [
      "Processing batch:  88%|████████▊ | 22/25 [09:53<00:53, 17.95s/it]"
     ]
    },
    {
     "name": "stdout",
     "output_type": "stream",
     "text": [
      "✅ Data stored for railsjitsu\n"
     ]
    },
    {
     "name": "stderr",
     "output_type": "stream",
     "text": [
      "Processing batch:  92%|█████████▏| 23/25 [10:03<00:31, 15.65s/it]"
     ]
    },
    {
     "name": "stdout",
     "output_type": "stream",
     "text": [
      "✅ Data stored for nitay\n"
     ]
    },
    {
     "name": "stderr",
     "output_type": "stream",
     "text": [
      "Processing batch:  96%|█████████▌| 24/25 [10:40<00:21, 21.86s/it]"
     ]
    },
    {
     "name": "stdout",
     "output_type": "stream",
     "text": [
      "✅ Data stored for kevwil\n"
     ]
    },
    {
     "name": "stderr",
     "output_type": "stream",
     "text": [
      "Processing batch: 100%|██████████| 25/25 [11:10<00:00, 26.81s/it]"
     ]
    },
    {
     "name": "stdout",
     "output_type": "stream",
     "text": [
      "✅ Data stored for KirinDave\n"
     ]
    },
    {
     "name": "stderr",
     "output_type": "stream",
     "text": [
      "\n",
      "Processing batch:   4%|▍         | 1/25 [00:33<13:24, 33.53s/it]"
     ]
    },
    {
     "name": "stdout",
     "output_type": "stream",
     "text": [
      "✅ Data stored for jamesgolick\n"
     ]
    },
    {
     "name": "stderr",
     "output_type": "stream",
     "text": [
      "Processing batch:   8%|▊         | 2/25 [01:09<13:24, 34.97s/it]"
     ]
    },
    {
     "name": "stdout",
     "output_type": "stream",
     "text": [
      "✅ Data stored for atmos\n"
     ]
    },
    {
     "name": "stderr",
     "output_type": "stream",
     "text": [
      "Processing batch:  12%|█▏        | 3/25 [01:17<08:19, 22.70s/it]"
     ]
    },
    {
     "name": "stdout",
     "output_type": "stream",
     "text": [
      "✅ Data stored for errfree\n"
     ]
    },
    {
     "name": "stderr",
     "output_type": "stream",
     "text": [
      "Processing batch:  16%|█▌        | 4/25 [01:52<09:34, 27.36s/it]"
     ]
    },
    {
     "name": "stdout",
     "output_type": "stream",
     "text": [
      "✅ Data stored for mojodna\n"
     ]
    },
    {
     "name": "stderr",
     "output_type": "stream",
     "text": [
      "Processing batch:  20%|██        | 5/25 [02:28<10:14, 30.75s/it]"
     ]
    },
    {
     "name": "stdout",
     "output_type": "stream",
     "text": [
      "✅ Data stored for bmizerany\n"
     ]
    },
    {
     "name": "stderr",
     "output_type": "stream",
     "text": [
      "Processing batch:  24%|██▍       | 6/25 [02:57<09:33, 30.19s/it]"
     ]
    },
    {
     "name": "stdout",
     "output_type": "stream",
     "text": [
      "✅ Data stored for jnewland\n"
     ]
    },
    {
     "name": "stderr",
     "output_type": "stream",
     "text": [
      "Processing batch:  28%|██▊       | 7/25 [03:14<07:42, 25.67s/it]"
     ]
    },
    {
     "name": "stdout",
     "output_type": "stream",
     "text": [
      "✅ Data stored for joshknowles\n"
     ]
    },
    {
     "name": "stderr",
     "output_type": "stream",
     "text": [
      "Processing batch:  32%|███▏      | 8/25 [03:24<05:50, 20.59s/it]"
     ]
    },
    {
     "name": "stdout",
     "output_type": "stream",
     "text": [
      "✅ Data stored for hornbeck\n"
     ]
    },
    {
     "name": "stderr",
     "output_type": "stream",
     "text": [
      "Processing batch:  36%|███▌      | 9/25 [03:47<05:41, 21.37s/it]"
     ]
    },
    {
     "name": "stdout",
     "output_type": "stream",
     "text": [
      "✅ Data stored for jwhitmire\n"
     ]
    },
    {
     "name": "stderr",
     "output_type": "stream",
     "text": [
      "Processing batch:  40%|████      | 10/25 [04:12<05:38, 22.56s/it]"
     ]
    },
    {
     "name": "stdout",
     "output_type": "stream",
     "text": [
      "✅ Data stored for elbowdonkey\n"
     ]
    },
    {
     "name": "stderr",
     "output_type": "stream",
     "text": [
      "Processing batch:  44%|████▍     | 11/25 [04:42<05:48, 24.92s/it]"
     ]
    },
    {
     "name": "stdout",
     "output_type": "stream",
     "text": [
      "✅ Data stored for reinh\n"
     ]
    },
    {
     "name": "stderr",
     "output_type": "stream",
     "text": [
      "Processing batch:  48%|████▊     | 12/25 [05:17<06:03, 27.99s/it]"
     ]
    },
    {
     "name": "stdout",
     "output_type": "stream",
     "text": [
      "✅ Data stored for knzai\n"
     ]
    },
    {
     "name": "stderr",
     "output_type": "stream",
     "text": [
      "Processing batch:  52%|█████▏    | 13/25 [05:53<06:04, 30.35s/it]"
     ]
    },
    {
     "name": "stdout",
     "output_type": "stream",
     "text": [
      "✅ Data stored for bs\n"
     ]
    },
    {
     "name": "stderr",
     "output_type": "stream",
     "text": [
      "Processing batch:  56%|█████▌    | 14/25 [06:30<05:57, 32.49s/it]"
     ]
    },
    {
     "name": "stdout",
     "output_type": "stream",
     "text": [
      "✅ Data stored for rsanheim\n"
     ]
    },
    {
     "name": "stderr",
     "output_type": "stream",
     "text": [
      "Processing batch:  60%|██████    | 15/25 [06:54<04:58, 29.86s/it]"
     ]
    },
    {
     "name": "stdout",
     "output_type": "stream",
     "text": [
      "✅ Data stored for schacon\n"
     ]
    },
    {
     "name": "stderr",
     "output_type": "stream",
     "text": [
      "Processing batch:  64%|██████▍   | 16/25 [07:14<04:02, 26.93s/it]"
     ]
    },
    {
     "name": "stdout",
     "output_type": "stream",
     "text": [
      "✅ Data stored for uggedal\n"
     ]
    },
    {
     "name": "stderr",
     "output_type": "stream",
     "text": [
      "Processing batch:  68%|██████▊   | 17/25 [07:39<03:29, 26.17s/it]"
     ]
    },
    {
     "name": "stdout",
     "output_type": "stream",
     "text": [
      "✅ Data stored for bruce\n"
     ]
    },
    {
     "name": "stderr",
     "output_type": "stream",
     "text": [
      "Processing batch:  72%|███████▏  | 18/25 [08:04<03:01, 25.87s/it]"
     ]
    },
    {
     "name": "stdout",
     "output_type": "stream",
     "text": [
      "✅ Data stored for sam\n"
     ]
    },
    {
     "name": "stderr",
     "output_type": "stream",
     "text": [
      "Processing batch:  76%|███████▌  | 19/25 [08:32<02:38, 26.45s/it]"
     ]
    },
    {
     "name": "stdout",
     "output_type": "stream",
     "text": [
      "✅ Data stored for mmower\n"
     ]
    },
    {
     "name": "stderr",
     "output_type": "stream",
     "text": [
      "Processing batch:  80%|████████  | 20/25 [08:53<02:03, 24.78s/it]"
     ]
    },
    {
     "name": "stdout",
     "output_type": "stream",
     "text": [
      "✅ Data stored for abhay\n"
     ]
    },
    {
     "name": "stderr",
     "output_type": "stream",
     "text": [
      "Processing batch:  84%|████████▍ | 21/25 [09:16<01:38, 24.50s/it]"
     ]
    },
    {
     "name": "stdout",
     "output_type": "stream",
     "text": [
      "✅ Data stored for rabble\n"
     ]
    },
    {
     "name": "stderr",
     "output_type": "stream",
     "text": [
      "Processing batch:  88%|████████▊ | 22/25 [09:39<01:12, 24.03s/it]"
     ]
    },
    {
     "name": "stdout",
     "output_type": "stream",
     "text": [
      "✅ Data stored for benburkert\n"
     ]
    },
    {
     "name": "stderr",
     "output_type": "stream",
     "text": [
      "Processing batch:  92%|█████████▏| 23/25 [10:08<00:50, 25.36s/it]"
     ]
    },
    {
     "name": "stdout",
     "output_type": "stream",
     "text": [
      "✅ Data stored for indirect\n"
     ]
    },
    {
     "name": "stderr",
     "output_type": "stream",
     "text": [
      "Processing batch:  96%|█████████▌| 24/25 [10:41<00:27, 27.86s/it]"
     ]
    },
    {
     "name": "stdout",
     "output_type": "stream",
     "text": [
      "✅ Data stored for fearoffish\n"
     ]
    },
    {
     "name": "stderr",
     "output_type": "stream",
     "text": [
      "Processing batch: 100%|██████████| 25/25 [11:16<00:00, 27.04s/it]"
     ]
    },
    {
     "name": "stdout",
     "output_type": "stream",
     "text": [
      "✅ Data stored for ry\n"
     ]
    },
    {
     "name": "stderr",
     "output_type": "stream",
     "text": [
      "\n"
     ]
    }
   ],
   "source": [
    "import requests\n",
    "import time\n",
    "from pymongo import MongoClient\n",
    "from tqdm import tqdm\n",
    "from dotenv import load_dotenv\n",
    "import os\n",
    "from requests.exceptions import ConnectionError, Timeout, HTTPError\n",
    "from http.client import RemoteDisconnected\n",
    "\n",
    "# === Load environment variables ===\n",
    "load_dotenv(dotenv_path=r\"C:\\Users\\madhu\\OneDrive\\Desktop\\Project - Git Hub Recommendation\\Git-Hub-Recommendation\\password.env\")\n",
    "GITHUB_TOKEN = os.getenv(\"GITHUB_API_KEY\")\n",
    "MONGO_URI = os.getenv(\"MONGO_URI\")\n",
    "\n",
    "if not GITHUB_TOKEN:\n",
    "    raise ValueError(\"❌ GITHUB_API_KEY not found in environment variables.\")\n",
    "if not MONGO_URI:\n",
    "    raise ValueError(\"❌ MONGO_URI not found in environment variables.\")\n",
    "\n",
    "# === Setup GitHub headers ===\n",
    "HEADERS = {\n",
    "    \"Authorization\": f\"token {GITHUB_TOKEN}\",\n",
    "    \"Accept\": \"application/vnd.github.v3+json\"\n",
    "}\n",
    "user_data\n",
    "# === MongoDB setup ===\n",
    "client = MongoClient(MONGO_URI)\n",
    "db = client[\"github_db\"]\n",
    "collection = db[\"\"]\n",
    "\n",
    "# === Helper Functions ===\n",
    "def get_json(url, retries=3, backoff=5):\n",
    "    for attempt in range(retries):\n",
    "        try:\n",
    "            response = requests.get(url, headers=HEADERS, timeout=10)\n",
    "            if response.status_code == 403:  # rate limit\n",
    "                print(\"⚠️ Rate limit reached. Sleeping for 60 seconds.\")\n",
    "                time.sleep(60)\n",
    "                continue\n",
    "            response.raise_for_status()\n",
    "            return response.json()\n",
    "        except (ConnectionError, RemoteDisconnected, Timeout) as e:\n",
    "            print(f\"⚠️ Connection error on attempt {attempt+1}/{retries}: {e}\")\n",
    "            time.sleep(backoff)\n",
    "        except HTTPError as e:\n",
    "            print(f\"⚠️ HTTP error: {e}\")\n",
    "            break\n",
    "    raise Exception(f\"❌ Failed to fetch {url} after {retries} attempts.\")\n",
    "\n",
    "def get_users_batch(since=0, per_page=100):\n",
    "    url = f\"https://api.github.com/users?since={since}&per_page={per_page}\"\n",
    "    return get_json(url)\n",
    "\n",
    "def get_user_details(username):\n",
    "    url = f\"https://api.github.com/users/{username}\"\n",
    "    return get_json(url)\n",
    "\n",
    "def get_list(url, key='login'):\n",
    "    return [item[key] for item in get_json(url)]\n",
    "\n",
    "def get_starred_or_subs(url):\n",
    "    return [item['html_url'] for item in get_json(url)]\n",
    "\n",
    "def get_languages(username):\n",
    "    repos = get_json(f\"https://api.github.com/users/{username}/repos\")\n",
    "    language_data = {}\n",
    "    for repo in repos:\n",
    "        langs = get_json(repo['languages_url'])\n",
    "        for lang, count in langs.items():\n",
    "            language_data[lang] = language_data.get(lang, 0) + count\n",
    "    return language_data\n",
    "\n",
    "def get_total_commits(username):\n",
    "    repos = get_json(f\"https://api.github.com/users/{username}/repos\")\n",
    "    total = 0\n",
    "    for repo in repos:\n",
    "        if repo.get('fork'):\n",
    "            continue\n",
    "        url = repo['commits_url'].replace(\"{/sha}\", \"\")\n",
    "        commits = requests.get(url, headers=HEADERS, params={'per_page': 1}).json()\n",
    "        if isinstance(commits, list):\n",
    "            total += len(commits)\n",
    "    return total\n",
    "\n",
    "# === Core Function to Fetch and Store User Data ===\n",
    "def collect_and_store_user(username):\n",
    "    try:\n",
    "        user = get_user_details(username)\n",
    "        data = {\n",
    "            \"Login\": username,\n",
    "            \"Name\": user.get(\"name\"),\n",
    "            \"Bio\": user.get(\"bio\"),\n",
    "            \"Public Repositories\": user.get(\"public_repos\"),\n",
    "            \"Followers Count\": user.get(\"followers\"),\n",
    "            \"Following Count\": user.get(\"following\"),\n",
    "            \"Created At\": user.get(\"created_at\"),\n",
    "            \"Updated At\": user.get(\"updated_at\"),\n",
    "            \"Avatar URL\": user.get(\"avatar_url\"),\n",
    "            \"Profile URL\": user.get(\"html_url\"),\n",
    "            \"Followers List\": get_list(f\"https://api.github.com/users/{username}/followers\"),\n",
    "            \"Following List\": get_list(f\"https://api.github.com/users/{username}/following\"),\n",
    "            \"Starred Repositories\": get_starred_or_subs(f\"https://api.github.com/users/{username}/starred\"),\n",
    "            \"Subscriptions\": get_starred_or_subs(f\"https://api.github.com/users/{username}/subscriptions\"),\n",
    "            \"Organizations\": get_list(f\"https://api.github.com/users/{username}/orgs\"),\n",
    "            \"Languages\": get_languages(username),\n",
    "            \"Total Commits\": get_total_commits(username)\n",
    "        }\n",
    "        collection.update_one({\"Login\": username}, {\"$set\": data}, upsert=True)\n",
    "        print(f\"✅ Data stored for {username}\")\n",
    "    except Exception as e:\n",
    "        print(f\"❌ Error for {username}: {e}\")\n",
    "\n",
    "# === Batch Processing ===\n",
    "def batch_process_users(start_since=0, batches=1, per_page=10):\n",
    "    since = start_since\n",
    "    for _ in range(batches):\n",
    "        users = get_users_batch(since, per_page)\n",
    "        if not users:\n",
    "            break\n",
    "        for user in tqdm(users, desc=\"Processing batch\"):\n",
    "            collect_and_store_user(user['login'])\n",
    "        since = users[-1]['id']\n",
    "\n",
    "# === Example Usage ===\n",
    "# Process first 2 batches of 100 users each\n",
    "batch_process_users(start_since=0, batches=2, per_page=25)\n"
   ]
  }
 ],
 "metadata": {
  "kernelspec": {
   "display_name": "Python 3",
   "language": "python",
   "name": "python3"
  },
  "language_info": {
   "codemirror_mode": {
    "name": "ipython",
    "version": 3
   },
   "file_extension": ".py",
   "mimetype": "text/x-python",
   "name": "python",
   "nbconvert_exporter": "python",
   "pygments_lexer": "ipython3",
   "version": "3.11.3"
  }
 },
 "nbformat": 4,
 "nbformat_minor": 2
}
