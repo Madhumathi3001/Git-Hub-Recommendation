{
 "cells": [
  {
   "cell_type": "code",
   "execution_count": 1,
   "metadata": {},
   "outputs": [
    {
     "name": "stdout",
     "output_type": "stream",
     "text": [
      "Requirement already satisfied: requests in d:\\python\\lib\\site-packages (2.32.3)\n",
      "Requirement already satisfied: pymongo in d:\\python\\lib\\site-packages (4.13.0)\n",
      "Requirement already satisfied: tqdm in d:\\python\\lib\\site-packages (4.67.1)\n",
      "Requirement already satisfied: charset-normalizer<4,>=2 in d:\\python\\lib\\site-packages (from requests) (3.4.1)\n",
      "Requirement already satisfied: idna<4,>=2.5 in d:\\python\\lib\\site-packages (from requests) (3.10)\n",
      "Requirement already satisfied: urllib3<3,>=1.21.1 in d:\\python\\lib\\site-packages (from requests) (2.4.0)\n",
      "Requirement already satisfied: certifi>=2017.4.17 in d:\\python\\lib\\site-packages (from requests) (2025.4.26)\n",
      "Requirement already satisfied: dnspython<3.0.0,>=1.16.0 in d:\\python\\lib\\site-packages (from pymongo) (2.7.0)\n",
      "Requirement already satisfied: colorama in c:\\users\\madhu\\appdata\\roaming\\python\\python311\\site-packages (from tqdm) (0.4.6)\n"
     ]
    },
    {
     "name": "stderr",
     "output_type": "stream",
     "text": [
      "\n",
      "[notice] A new release of pip is available: 25.0.1 -> 25.1.1\n",
      "[notice] To update, run: python.exe -m pip install --upgrade pip\n"
     ]
    }
   ],
   "source": [
    "!pip install requests pymongo tqdm"
   ]
  },
  {
   "cell_type": "code",
   "execution_count": 2,
   "metadata": {},
   "outputs": [],
   "source": [
    "import os"
   ]
  },
  {
   "cell_type": "code",
   "execution_count": 4,
   "metadata": {},
   "outputs": [
    {
     "data": {
      "text/plain": [
       "True"
      ]
     },
     "execution_count": 4,
     "metadata": {},
     "output_type": "execute_result"
    }
   ],
   "source": [
    "from dotenv import load_dotenv\n",
    "load_dotenv(dotenv_path=\"password.env\")"
   ]
  },
  {
   "cell_type": "code",
   "execution_count": 6,
   "metadata": {},
   "outputs": [
    {
     "name": "stdout",
     "output_type": "stream",
     "text": [
      "Token: ***REMOVED***\n"
     ]
    }
   ],
   "source": [
    "import os\n",
    "\n",
    "GITHUB_API_KEY = os.getenv(\"GITHUB_API_KEY\")\n",
    "print(\"Token:\", GITHUB_API_KEY)  # Should print your token, not None or empty string\n",
    "\n",
    "HEADERS = {\n",
    "    \"Authorization\": f\"token {GITHUB_API_KEY}\",\n",
    "    \"Accept\": \"application/vnd.github.v3+json\"\n",
    "}\n"
   ]
  },
  {
   "cell_type": "code",
   "execution_count": 7,
   "metadata": {},
   "outputs": [],
   "source": [
    "def get_json(url):\n",
    "    while True:\n",
    "        response = requests.get(url, headers=HEADERS)  # headers must be here!\n",
    "        if response.status_code == 403:\n",
    "            # rate limit handling...\n",
    "            pass\n",
    "        elif response.status_code == 401:\n",
    "            raise Exception(\"Unauthorized: Check your GitHub token!\")\n",
    "        response.raise_for_status()\n",
    "        return response.json()\n"
   ]
  },
  {
   "cell_type": "code",
   "execution_count": 8,
   "metadata": {},
   "outputs": [
    {
     "name": "stdout",
     "output_type": "stream",
     "text": [
      "Token: ***REMOVED***\n",
      "Status code: 200\n",
      "Response: [{'login': 'mojombo', 'id': 1, 'node_id': 'MDQ6VXNlcjE=', 'avatar_url': 'https://avatars.githubusercontent.com/u/1?v=4', 'gravatar_id': '', 'url': 'https://api.github.com/users/mojombo', 'html_url': 'https://github.com/mojombo', 'followers_url': 'https://api.github.com/users/mojombo/followers', 'following_url': 'https://api.github.com/users/mojombo/following{/other_user}', 'gists_url': 'https://api.github.com/users/mojombo/gists{/gist_id}', 'starred_url': 'https://api.github.com/users/mojombo/starred{/owner}{/repo}', 'subscriptions_url': 'https://api.github.com/users/mojombo/subscriptions', 'organizations_url': 'https://api.github.com/users/mojombo/orgs', 'repos_url': 'https://api.github.com/users/mojombo/repos', 'events_url': 'https://api.github.com/users/mojombo/events{/privacy}', 'received_events_url': 'https://api.github.com/users/mojombo/received_events', 'type': 'User', 'user_view_type': 'public', 'site_admin': False}]\n"
     ]
    }
   ],
   "source": [
    "import os\n",
    "import requests\n",
    "from dotenv import load_dotenv\n",
    "\n",
    "load_dotenv()  # or load_dotenv(dotenv_path=\"password.env\")\n",
    "\n",
    "token = os.getenv(\"GITHUB_API_KEY\")\n",
    "print(\"Token:\", token)\n",
    "\n",
    "headers = {\"Authorization\": f\"token {token}\"}\n",
    "response = requests.get(\"https://api.github.com/users?per_page=1\", headers=headers)\n",
    "\n",
    "print(\"Status code:\", response.status_code)\n",
    "print(\"Response:\", response.json())\n"
   ]
  },
  {
   "cell_type": "code",
   "execution_count": 9,
   "metadata": {},
   "outputs": [
    {
     "name": "stderr",
     "output_type": "stream",
     "text": [
      "Processing batch: 100%|██████████| 10/10 [03:38<00:00, 21.90s/it]\n",
      "Processing batch: 100%|██████████| 10/10 [03:13<00:00, 19.32s/it]\n"
     ]
    }
   ],
   "source": [
    "import os\n",
    "from dotenv import load_dotenv\n",
    "import requests\n",
    "import time\n",
    "from pymongo import MongoClient\n",
    "from tqdm import tqdm\n",
    "\n",
    "load_dotenv()  # Load env vars\n",
    "\n",
    "GITHUB_TOKEN = os.getenv(\"GITHUB_API_KEY\")\n",
    "if not GITHUB_TOKEN:\n",
    "    raise Exception(\"GitHub API key is missing!\")\n",
    "\n",
    "HEADERS = {\n",
    "    \"Authorization\": f\"token {GITHUB_TOKEN}\",\n",
    "    \"Accept\": \"application/vnd.github.v3+json\"\n",
    "}\n",
    "\n",
    "MONGO_URI = os.getenv(\"MONGO_URI\")\n",
    "client = MongoClient(MONGO_URI)\n",
    "db = client[\"github_db\"]\n",
    "collection = db[\"user_data\"]\n",
    "\n",
    "# ... rest of your code ...\n",
    "\n",
    "\n",
    "# === Helper Functions ===\n",
    "def get_json(url):\n",
    "    response = requests.get(url, headers=HEADERS)\n",
    "    if response.status_code == 403:  # rate limit\n",
    "        time.sleep(60)\n",
    "        response = requests.get(url, headers=HEADERS)\n",
    "    response.raise_for_status()\n",
    "    return response.json()\n",
    "\n",
    "def get_users_batch(since=0, per_page=100):\n",
    "    url = f\"https://api.github.com/users?since={since}&per_page={per_page}\"\n",
    "    return get_json(url)\n",
    "\n",
    "def get_user_details(username):\n",
    "    url = f\"https://api.github.com/users/{username}\"\n",
    "    return get_json(url)\n",
    "\n",
    "def get_list(url, key='login'):\n",
    "    return [item[key] for item in get_json(url)]\n",
    "\n",
    "def get_starred_or_subs(url):\n",
    "    return [item['html_url'] for item in get_json(url)]\n",
    "\n",
    "def get_languages(username):\n",
    "    repos = get_json(f\"https://api.github.com/users/{username}/repos\")\n",
    "    language_data = {}\n",
    "    for repo in repos:\n",
    "        langs = get_json(repo['languages_url'])\n",
    "        for lang, count in langs.items():\n",
    "            language_data[lang] = language_data.get(lang, 0) + count\n",
    "    return language_data\n",
    "\n",
    "def get_total_commits(username):\n",
    "    repos = get_json(f\"https://api.github.com/users/{username}/repos\")\n",
    "    total = 0\n",
    "    for repo in repos:\n",
    "        if repo.get('fork'):\n",
    "            continue\n",
    "        url = repo['commits_url'].replace(\"{/sha}\", \"\")\n",
    "        commits = requests.get(url, headers=HEADERS, params={'per_page': 1}).json()\n",
    "        if isinstance(commits, list):\n",
    "            total += len(commits)\n",
    "    return total\n",
    "\n",
    "# === Core Function to Fetch and Store User Data ===\n",
    "def collect_and_store_user(username):\n",
    "    try:\n",
    "        user = get_user_details(username)\n",
    "        data = {\n",
    "            \"Login\": username,\n",
    "            \"Name\": user.get(\"name\"),\n",
    "            \"Bio\": user.get(\"bio\"),\n",
    "            \"Public Repositories\": user.get(\"public_repos\"),\n",
    "            \"Followers Count\": user.get(\"followers\"),\n",
    "            \"Following Count\": user.get(\"following\"),\n",
    "            \"Created At\": user.get(\"created_at\"),\n",
    "            \"Updated At\": user.get(\"updated_at\"),\n",
    "            \"Avatar URL\": user.get(\"avatar_url\"),\n",
    "            \"Profile URL\": user.get(\"html_url\"),\n",
    "            \"Followers List\": get_list(f\"https://api.github.com/users/{username}/followers\"),\n",
    "            \"Following List\": get_list(f\"https://api.github.com/users/{username}/following\"),\n",
    "            \"Starred Repositories\": get_starred_or_subs(f\"https://api.github.com/users/{username}/starred\"),\n",
    "            \"Subscriptions\": get_starred_or_subs(f\"https://api.github.com/users/{username}/subscriptions\"),\n",
    "            \"Organizations\": get_list(f\"https://api.github.com/users/{username}/orgs\"),\n",
    "            \"Languages\": get_languages(username),\n",
    "            \"Total Commits\": get_total_commits(username)\n",
    "        }\n",
    "        collection.update_one({\"Login\": username}, {\"$set\": data}, upsert=True)\n",
    "    except Exception as e:\n",
    "        print(f\"❌ Error for {username}: {e}\")\n",
    "\n",
    "# === Batch Processing ===\n",
    "def batch_process_users(start_since=0, batches=1, per_page=10):\n",
    "    since = start_since\n",
    "    for _ in range(batches):\n",
    "        users = get_users_batch(since, per_page)\n",
    "        if not users:\n",
    "            break\n",
    "        for user in tqdm(users, desc=\"Processing batch\"):\n",
    "            collect_and_store_user(user['login'])\n",
    "        since = users[-1]['id']\n",
    "\n",
    "# === Fallback for Missing Username ===\n",
    "def fetch_user_if_not_exists(username):\n",
    "    if collection.find_one({\"Login\": username}):\n",
    "        print(f\"✅ User {username} already exists in DB.\")\n",
    "    else:\n",
    "        print(f\"🔍 Fetching missing user: {username}\")\n",
    "        collect_and_store_user(username)\n",
    "\n",
    "# === Example Usage ===\n",
    "# Process first 2 batches of 100 users\n",
    "batch_process_users(start_since=0, batches=2)"
   ]
  },
  {
   "cell_type": "code",
   "execution_count": null,
   "metadata": {},
   "outputs": [],
   "source": []
  }
 ],
 "metadata": {
  "kernelspec": {
   "display_name": "Python 3",
   "language": "python",
   "name": "python3"
  },
  "language_info": {
   "codemirror_mode": {
    "name": "ipython",
    "version": 3
   },
   "file_extension": ".py",
   "mimetype": "text/x-python",
   "name": "python",
   "nbconvert_exporter": "python",
   "pygments_lexer": "ipython3",
   "version": "3.11.3"
  }
 },
 "nbformat": 4,
 "nbformat_minor": 2
}
